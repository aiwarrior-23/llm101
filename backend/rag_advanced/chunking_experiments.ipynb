{
 "cells": [
  {
   "cell_type": "markdown",
   "metadata": {},
   "source": [
    "# Important Configurations"
   ]
  },
  {
   "cell_type": "markdown",
   "metadata": {},
   "source": [
    "We will initialize different configurations that will be used throughout this notebook"
   ]
  },
  {
   "cell_type": "code",
   "execution_count": 2,
   "metadata": {},
   "outputs": [],
   "source": [
    "import os\n",
    "from config import HF_TOKEN, open_ai_key\n",
    "import warnings\n",
    "from langchain.embeddings import OpenAIEmbeddings\n",
    "from langchain_openai import ChatOpenAI\n",
    "from langchain_huggingface  import HuggingFaceEmbeddings\n",
    "from langchain_ollama import ChatOllama\n",
    "\n",
    "# Ignore all the warnings given by different packages\n",
    "warnings.filterwarnings('ignore')\n",
    "\n",
    "# Retrieve the open ai and hf tokens from the configuration file\n",
    "os.environ[\"HUGGINGFACEHUB_API_TOKEN\"] = HF_TOKEN\n",
    "os.environ[\"OPENAI_API_KEY\"] = open_ai_key\n",
    "\n",
    "# Select the GPU as the device\n",
    "model_kwargs = {'device': 'cuda'}\n",
    "\n",
    "# Required for fast similarity computations\n",
    "encode_kwargs = {'normalize_embeddings': True}\n",
    "\n",
    "# Initialize Embeddings, GPT and Ollama Model\n",
    "llm_gpt = ChatOpenAI(model_name=\"gpt-4o-mini\", openai_api_key=open_ai_key,\n",
    "    temperature = 0.5)\n",
    "\n",
    "llm = ChatOllama(\n",
    "    model=\"llama3.2:1b\",\n",
    "    temperature=0.5,\n",
    "    num_thread = 2,\n",
    "    format = 'json'\n",
    ")\n",
    "\n",
    "model_embeddings = HuggingFaceEmbeddings(\n",
    "    model_name=\"BAAI/bge-large-en-v1.5\",\n",
    "    model_kwargs=model_kwargs,\n",
    "    encode_kwargs=encode_kwargs,\n",
    ")\n",
    "\n",
    "model_embeddings_gpt = OpenAIEmbeddings()"
   ]
  },
  {
   "cell_type": "markdown",
   "metadata": {},
   "source": [
    "# Load All the Documents"
   ]
  },
  {
   "cell_type": "markdown",
   "metadata": {},
   "source": [
    "There are around 20 HR Policies documents for the Indian context present in folder data.\n",
    "\n",
    "These policies can be downloaded by running the data_downloader.py script"
   ]
  },
  {
   "cell_type": "code",
   "execution_count": 2,
   "metadata": {},
   "outputs": [
    {
     "name": "stdout",
     "output_type": "stream",
     "text": [
      "total documents loaded - 427\n"
     ]
    }
   ],
   "source": [
    "from langchain_community.document_loaders import PyMuPDFLoader\n",
    "import os\n",
    "\n",
    "pdf_folder_path = \"./utils/data\"\n",
    "documents = []\n",
    "for file in os.listdir(pdf_folder_path):\n",
    "    if file.endswith('.pdf'):\n",
    "        pdf_path = os.path.join(pdf_folder_path, file)\n",
    "        loader = PyMuPDFLoader(pdf_path)\n",
    "        documents.extend(loader.load())\n",
    "        \n",
    "print(f\"total documents loaded - {len(documents)}\")"
   ]
  },
  {
   "cell_type": "markdown",
   "metadata": {},
   "source": [
    "# Vector DB Initialization"
   ]
  },
  {
   "cell_type": "markdown",
   "metadata": {},
   "source": [
    "We will create a reusable function which either stores the embeddings (if load is False) or loads the embeddings from the disk (if load is True)"
   ]
  },
  {
   "cell_type": "code",
   "execution_count": 3,
   "metadata": {},
   "outputs": [],
   "source": [
    "from langchain_chroma import Chroma\n",
    "\n",
    "\n",
    "def create_or_load_vector_db(chunked_documents, persist_directory, load=True, model=\"bge\"):\n",
    "    if model==\"bge\":\n",
    "        if load:\n",
    "            vectordb = Chroma(\n",
    "                persist_directory=persist_directory,\n",
    "                embedding_function=model_embeddings,\n",
    "            )\n",
    "    \n",
    "        else:\n",
    "            vectordb = Chroma.from_documents(\n",
    "                documents=chunked_documents,\n",
    "                embedding=model_embeddings,\n",
    "                persist_directory=persist_directory,\n",
    "            )\n",
    "    elif model==\"openai\":\n",
    "        if load:\n",
    "            vectordb = Chroma(\n",
    "                persist_directory=persist_directory,\n",
    "                embedding_function=model_embeddings_gpt,\n",
    "            )\n",
    "    \n",
    "        else:\n",
    "            vectordb = Chroma.from_documents(\n",
    "                documents=chunked_documents,\n",
    "                embedding=model_embeddings_gpt,\n",
    "                persist_directory=persist_directory,\n",
    "            )\n",
    "    \n",
    "    return vectordb"
   ]
  },
  {
   "cell_type": "markdown",
   "metadata": {},
   "source": [
    "# Chunking Strategies"
   ]
  },
  {
   "cell_type": "markdown",
   "metadata": {},
   "source": [
    "In this notebook, we will explore various chunking strategies to process data efficiently. Below is a list of the strategies we will be experimenting with:\n",
    "\n",
    "1. **Fixed Length Chunking**\n",
    "   - Chunk size: 1000\n",
    "   - Overlap: 128\n",
    "\n",
    "2. **Recursive Chunking**\n",
    "   - Chunk size: 1000\n",
    "   - Overlap: 128\n",
    "\n",
    "3. **Recursive Chunking**\n",
    "   - Chunk size: 4096\n",
    "   - Overlap: 128\n",
    "\n",
    "4. **Recursive Chunking**\n",
    "   - Chunk size: 2048\n",
    "   - Overlap: 128\n",
    "\n",
    "5. **Recursive Chunking**\n",
    "   - Chunk size: 512\n",
    "   - Overlap: 128\n",
    "\n",
    "6. **Recursive Chunking**\n",
    "   - Chunk size: 256\n",
    "   - Overlap: 128\n",
    "\n",
    "7. **Semantic Chunking** with Percentile\n",
    "\n",
    "8. **Semantic Chunking** with Standard Deviation\n",
    "\n",
    "9. **Semantic Chunking** with Inter Quartile Range\n",
    "\n",
    "10. **Semantic Chunking** with Gradient\n",
    "\n",
    "11. **Page-based Chunking**\n",
    "\n",
    "12. **Agentic Chunking** (According to Paper)\n",
    "\n",
    "13. **Custom Agentic Chunking**"
   ]
  },
  {
   "cell_type": "markdown",
   "metadata": {},
   "source": [
    "## Fixed Length Chunking"
   ]
  },
  {
   "cell_type": "markdown",
   "metadata": {},
   "source": [
    "In this experiment we are setting a Fixed Length of **1000**. So the split will be based on the separator \"\\n\\n\"\n",
    "\n",
    "We set a chunk overlap of 128. This means **128** tokens of the previous chunk will be present in the next chunk, to maintain the consistency and context"
   ]
  },
  {
   "cell_type": "code",
   "execution_count": 14,
   "metadata": {},
   "outputs": [],
   "source": [
    "from langchain.text_splitter import CharacterTextSplitter\n",
    "\n",
    "# Decide if split has already been done or not\n",
    "split = False\n",
    "\n",
    "if split:\n",
    "    # If first time, do the splitting and store in Vector DB\n",
    "    text_splitter = CharacterTextSplitter(\n",
    "    separator = \"\\n\\n\",\n",
    "    chunk_size = 1000,\n",
    "    chunk_overlap  = 128\n",
    "    )\n",
    "    \n",
    "    chunked_documents_fixed  = text_splitter.split_documents(documents)\n",
    "    \n",
    "    vectordb_fixed = create_or_load_vector_db(chunked_documents=chunked_documents_fixed, persist_directory=\"./vector_store_fixed\", load=False)\n",
    "\n",
    "else:\n",
    "    # If not the first time, retrieve from Vector DB\n",
    "   vectordb_fixed = create_or_load_vector_db(chunked_documents=\"\", persist_directory=\"./vector_store_fixed\", load=True) "
   ]
  },
  {
   "cell_type": "markdown",
   "metadata": {},
   "source": [
    "## Recursive Chunking"
   ]
  },
  {
   "cell_type": "markdown",
   "metadata": {},
   "source": [
    "This method is similar to Fixed Length, but only difference is that it tries more to have our chunk size less that or equal to the parameter we provided (Which is 1000)\n",
    "\n",
    "This is done, by looking at the first seperator (suppose '\\n\\n'). If that doesn't lead to split <=1000 then second separator (may be '\\n') and so on"
   ]
  },
  {
   "cell_type": "markdown",
   "metadata": {},
   "source": [
    "### 1000 Tokens based Chunking"
   ]
  },
  {
   "cell_type": "markdown",
   "metadata": {},
   "source": [
    "We will use parameter of 1000 chunk size and 128 overlap"
   ]
  },
  {
   "cell_type": "code",
   "execution_count": 6,
   "metadata": {},
   "outputs": [],
   "source": [
    "from langchain.text_splitter import RecursiveCharacterTextSplitter\n",
    "\n",
    "split = False\n",
    "\n",
    "if split:\n",
    "    text_splitter = RecursiveCharacterTextSplitter(\n",
    "        chunk_size = 1000,\n",
    "        chunk_overlap  = 128\n",
    "        )\n",
    "\n",
    "    chunked_documents_recursive  = text_splitter.split_documents(documents)\n",
    "\n",
    "    vectordb_recursive = create_or_load_vector_db(chunked_documents=chunked_documents_recursive, persist_directory=\"./vector_store_recursive\", load=False)\n",
    "\n",
    "else:\n",
    "   vectordb_fixed = create_or_load_vector_db(chunked_documents=\"\", persist_directory=\"./vector_store_fixed\", load=True) "
   ]
  },
  {
   "cell_type": "markdown",
   "metadata": {},
   "source": [
    "### Recursive Chunking Other Variations"
   ]
  },
  {
   "cell_type": "markdown",
   "metadata": {},
   "source": [
    "We will configure different other chunk and overlap size variations and store all of then in Vector DB"
   ]
  },
  {
   "cell_type": "code",
   "execution_count": 78,
   "metadata": {
    "scrolled": true
   },
   "outputs": [
    {
     "name": "stderr",
     "output_type": "stream",
     "text": [
      "\n",
      "\u001b[A%|                                                                                                                                           | 0/4 [00:00<?, ?it/s]"
     ]
    },
    {
     "name": "stdout",
     "output_type": "stream",
     "text": [
      "Starting Chunking of Documents - vector_store_recursive_256\n",
      "Chunking complete. Storing to Vector DB\n"
     ]
    },
    {
     "name": "stderr",
     "output_type": "stream",
     "text": [
      "\n",
      "\u001b[A%|████████████████████████████████▊                                                                                                  | 1/4 [01:25<04:16, 85.44s/it]"
     ]
    },
    {
     "name": "stdout",
     "output_type": "stream",
     "text": [
      "Storage Complete - vector_store_recursive_256\n",
      "Starting Chunking of Documents - vector_store_recursive_512\n",
      "Chunking complete. Storing to Vector DB\n"
     ]
    },
    {
     "name": "stderr",
     "output_type": "stream",
     "text": [
      "Exception ignored in: <function tqdm.__del__ at 0x7f71ff42d440>\n",
      "Traceback (most recent call last):\n",
      "  File \"/opt/conda/envs/rag/lib/python3.11/site-packages/tqdm/std.py\", line 1148, in __del__\n",
      "    self.close()\n",
      "  File \"/opt/conda/envs/rag/lib/python3.11/site-packages/tqdm/std.py\", line 1277, in close\n",
      "    if self.last_print_t < self.start_t + self.delay:\n",
      "       ^^^^^^^^^^^^^^^^^\n",
      "AttributeError: 'tqdm' object has no attribute 'last_print_t'\n",
      "\n",
      "\u001b[A%|█████████████████████████████████████████████████████████████████▌                                                                 | 2/4 [02:47<02:47, 83.73s/it]"
     ]
    },
    {
     "name": "stdout",
     "output_type": "stream",
     "text": [
      "Storage Complete - vector_store_recursive_512\n",
      "Starting Chunking of Documents - vector_store_recursive_2048\n",
      "Chunking complete. Storing to Vector DB\n"
     ]
    },
    {
     "name": "stderr",
     "output_type": "stream",
     "text": [
      "\n",
      "\u001b[A%|██████████████████████████████████████████████████████████████████████████████████████████████████▎                                | 3/4 [03:46<01:12, 72.22s/it]"
     ]
    },
    {
     "name": "stdout",
     "output_type": "stream",
     "text": [
      "Storage Complete - vector_store_recursive_2048\n",
      "Starting Chunking of Documents - vector_store_recursive_4096\n",
      "Chunking complete. Storing to Vector DB\n"
     ]
    },
    {
     "name": "stderr",
     "output_type": "stream",
     "text": [
      "\n",
      "100%|███████████████████████████████████████████████████████████████████████████████████████████████████████████████████████████████████| 4/4 [04:22<00:00, 65.68s/it]"
     ]
    },
    {
     "name": "stdout",
     "output_type": "stream",
     "text": [
      "Storage Complete - vector_store_recursive_4096\n"
     ]
    },
    {
     "name": "stderr",
     "output_type": "stream",
     "text": [
      "\n"
     ]
    }
   ],
   "source": [
    "from langchain.text_splitter import RecursiveCharacterTextSplitter\n",
    "\n",
    "# With configuration of 256/64\n",
    "text_splitter_256 = RecursiveCharacterTextSplitter(\n",
    "chunk_size = 256,\n",
    "chunk_overlap  = 64\n",
    ")\n",
    "\n",
    "# With configuration of 512/128\n",
    "text_splitter_512 = RecursiveCharacterTextSplitter(\n",
    "chunk_size = 512,\n",
    "chunk_overlap  = 128\n",
    ")\n",
    "\n",
    "# With configuration of 2048/512\n",
    "text_splitter_2048 = RecursiveCharacterTextSplitter(\n",
    "chunk_size = 2048,\n",
    "chunk_overlap  = 512\n",
    ")\n",
    "\n",
    "# With configuration of 4096/1024\n",
    "text_splitter_4096 = RecursiveCharacterTextSplitter(\n",
    "chunk_size = 4096,\n",
    "chunk_overlap  = 1024\n",
    ")\n",
    "\n",
    "\n",
    "splitting_dict = {\"vector_store_recursive_256\": text_splitter_256, \"vector_store_recursive_512\": text_splitter_512,\n",
    "    \"vector_store_recursive_2048\": text_splitter_2048, \"vector_store_recursive_4096\": text_splitter_4096}\n",
    "\n",
    "# Start the Split and Store, recursively\n",
    "for vector_store, splitter in splitting_dict.items():\n",
    "    print(f\"Starting Chunking of Documents - {vector_store}\")\n",
    "    chunked_documents  = splitter.split_documents(documents)\n",
    "    print(f\"Chunking complete. Storing to Vector DB\")\n",
    "    create_or_load_vector_db(chunked_documents=chunked_documents, persist_directory=f\"./{vector_store}\", load=False)\n",
    "    print(f\"Storage Complete - {vector_store}\")"
   ]
  },
  {
   "cell_type": "markdown",
   "metadata": {},
   "source": [
    "If already stored using the above step, load next time by running below step"
   ]
  },
  {
   "cell_type": "code",
   "execution_count": 7,
   "metadata": {},
   "outputs": [],
   "source": [
    "vectordb_recursive_256 = create_or_load_vector_db(chunked_documents=\"\", persist_directory=\"./vector_store_recursive_256\", load=True)\n",
    "vectordb_recursive_512 = create_or_load_vector_db(chunked_documents=\"\", persist_directory=\"./vector_store_recursive_512\", load=True)\n",
    "vectordb_recursive_2048 = create_or_load_vector_db(chunked_documents=\"\", persist_directory=\"./vector_store_recursive_2048\", load=True)\n",
    "vectordb_recursive_4096 = create_or_load_vector_db(chunked_documents=\"\", persist_directory=\"./vector_store_recursive_4096\", load=True)"
   ]
  },
  {
   "cell_type": "markdown",
   "metadata": {},
   "source": [
    "## Semantic Chunking"
   ]
  },
  {
   "cell_type": "markdown",
   "metadata": {},
   "source": [
    "This approach involves finding embeddings of every sentence and checking if it is similar to the embeddings of any other sentence. All the similar ones are clubbed together and made as a single chunk."
   ]
  },
  {
   "cell_type": "code",
   "execution_count": 8,
   "metadata": {},
   "outputs": [],
   "source": [
    "from langchain_experimental.text_splitter import SemanticChunker\n",
    "\n",
    "split = False\n",
    "\n",
    "if split:\n",
    "    text_splitter = SemanticChunker(model_embeddings)\n",
    "    chunked_documents_semantic  = text_splitter.split_documents(documents)\n",
    "    vectordb_semantic = create_or_load_vector_db(chunked_documents=chunked_documents_semantic, persist_directory=\"./vector_store_semantic\", load=False)\n",
    "else:\n",
    "    vectordb_semantic = create_or_load_vector_db(chunked_documents=\"\", persist_directory=\"./vector_store_semantic\", load=True)"
   ]
  },
  {
   "cell_type": "markdown",
   "metadata": {},
   "source": [
    "### Semantic Chunking with other variations"
   ]
  },
  {
   "cell_type": "markdown",
   "metadata": {},
   "source": [
    "We can do semantic chunking with different variations. Below we are going to try 4 variations\n",
    "\n",
    "1. **Percentile based**: Here sentence difference is based on Percentile. It will extract 500 chunks and to extract them it will change the threshold value dynamicallyt\n",
    "2. **Standard Deviation based**: Here sentence difference is based on Standard Deviation. Chunk extraction is same as above\n",
    "3. **Inter Quartile Based**: Here its Inter Quartile based. Chunk extraction method is same\n",
    "4. **Gradient Based**: It finds difference between gradients of percentile and based on it finds chunks"
   ]
  },
  {
   "cell_type": "code",
   "execution_count": 73,
   "metadata": {},
   "outputs": [],
   "source": [
    "text_splitter_percentile = SemanticChunker(embeddings = model_embeddings, breakpoint_threshold_type=\"percentile\", number_of_chunks=500)\n",
    "text_splitter_sd = SemanticChunker(embeddings = model_embeddings, breakpoint_threshold_type=\"standard_deviation\", number_of_chunks=500)\n",
    "text_splitter_iq = SemanticChunker(embeddings = model_embeddings, breakpoint_threshold_type=\"interquartile\", number_of_chunks=500)\n",
    "text_splitter_gradient = SemanticChunker(embeddings = model_embeddings, breakpoint_threshold_type=\"gradient\", number_of_chunks=500)"
   ]
  },
  {
   "cell_type": "code",
   "execution_count": 76,
   "metadata": {},
   "outputs": [
    {
     "name": "stdout",
     "output_type": "stream",
     "text": [
      "Done Percentile\n",
      "Done SD\n",
      "Done IQ\n",
      "Done Gradient\n"
     ]
    }
   ],
   "source": [
    "chunked_documents_semantic_percentile  = text_splitter_percentile.split_documents(documents)\n",
    "print(\"Done Percentile\")\n",
    "chunked_documents_semantic_sd  = text_splitter_sd.split_documents(documents)\n",
    "print(\"Done SD\")\n",
    "chunked_documents_semantic_iq  = text_splitter_iq.split_documents(documents)\n",
    "print(\"Done IQ\")\n",
    "chunked_documents_semantic_gradient  = text_splitter_gradient.split_documents(documents)\n",
    "print(\"Done Gradient\")"
   ]
  },
  {
   "cell_type": "code",
   "execution_count": 78,
   "metadata": {},
   "outputs": [],
   "source": [
    "vectordb_semantic_percentile = create_or_load_vector_db(chunked_documents=chunked_documents_semantic_percentile, persist_directory=\"./vector_store_semantic_percentile\", load=False)\n",
    "vectordb_semantic_sd = create_or_load_vector_db(chunked_documents=chunked_documents_semantic_sd, persist_directory=\"./vector_store_semantic_sd\", load=False)\n",
    "vectordb_semantic_iq = create_or_load_vector_db(chunked_documents=chunked_documents_semantic_iq, persist_directory=\"./vector_store_semantic_iq\", load=False)\n",
    "vectordb_semantic_gradient = create_or_load_vector_db(chunked_documents=chunked_documents_semantic_gradient, persist_directory=\"./vector_store_semantic_gradient\", load=False)"
   ]
  },
  {
   "cell_type": "markdown",
   "metadata": {},
   "source": [
    "## Page based Chunking"
   ]
  },
  {
   "cell_type": "markdown",
   "metadata": {},
   "source": [
    "Here all the pages extracted from each document will be converted into a chunk. Very basic approach"
   ]
  },
  {
   "cell_type": "code",
   "execution_count": 9,
   "metadata": {},
   "outputs": [],
   "source": [
    "vectordb_page = create_or_load_vector_db(chunked_documents=\"\", persist_directory=\"./vector_store_page\", load=True)"
   ]
  },
  {
   "cell_type": "markdown",
   "metadata": {},
   "source": [
    "## Agentic Chunking"
   ]
  },
  {
   "cell_type": "markdown",
   "metadata": {},
   "source": [
    "This is a new chunking method that uses llm and embeddings to generate propositions and then create chunks of these propositions.\n",
    "\n",
    "We will use gpt-4o-mini for generation of proposition chunks.\n",
    "\n",
    "This code is inspired from below repository\n",
    "\n",
    "[Agentic Chunking - Greg Kamradt](https://github.com/FullStackRetrieval-com/RetrievalTutorials/blob/main/tutorials/LevelsOfTextSplitting/5_Levels_Of_Text_Splitting.ipynb)\n",
    "\n",
    "We will now understand the process in detail."
   ]
  },
  {
   "cell_type": "code",
   "execution_count": 17,
   "metadata": {},
   "outputs": [],
   "source": [
    "from langchain.output_parsers.openai_tools import JsonOutputToolsParser\n",
    "from langchain_community.chat_models import ChatOpenAI\n",
    "from langchain_core.prompts import ChatPromptTemplate\n",
    "from langchain_core.runnables import RunnableLambda\n",
    "from langchain.chains import create_extraction_chain\n",
    "from typing import Optional, List\n",
    "from langchain.chains import create_extraction_chain_pydantic\n",
    "from langchain_core.pydantic_v1 import BaseModel\n",
    "from langchain import hub"
   ]
  },
  {
   "cell_type": "markdown",
   "metadata": {},
   "source": [
    "First we will extract the proposals extraction prompt from the hugging face hub. We can create our own, but its a tried and tested one"
   ]
  },
  {
   "cell_type": "code",
   "execution_count": 18,
   "metadata": {},
   "outputs": [],
   "source": [
    "proposition_prompt = hub.pull(\"wfh/proposal-indexing\")"
   ]
  },
  {
   "cell_type": "markdown",
   "metadata": {},
   "source": [
    "The system message of the prompt contains the core of proposals extraction"
   ]
  },
  {
   "cell_type": "code",
   "execution_count": 19,
   "metadata": {},
   "outputs": [
    {
     "name": "stdout",
     "output_type": "stream",
     "text": [
      "Decompose the \"Content\" into clear and simple propositions, ensuring they are interpretable out of\n",
      "context.\n",
      "1. Split compound sentence into simple sentences. Maintain the original phrasing from the input\n",
      "whenever possible.\n",
      "2. For any named entity that is accompanied by additional descriptive information, separate this\n",
      "information into its own distinct proposition.\n",
      "3. Decontextualize the proposition by adding necessary modifier to nouns or entire sentences\n",
      "and replacing pronouns (e.g., \"it\", \"he\", \"she\", \"they\", \"this\", \"that\") with the full name of the\n",
      "entities they refer to.\n",
      "4. Present the results as a list of strings, formatted in JSON.\n",
      "\n",
      "Example:\n",
      "\n",
      "Input: Title: ¯Eostre. Section: Theories and interpretations, Connection to Easter Hares. Content:\n",
      "The earliest evidence for the Easter Hare (Osterhase) was recorded in south-west Germany in\n",
      "1678 by the professor of medicine Georg Franck von Franckenau, but it remained unknown in\n",
      "other parts of Germany until the 18th century. Scholar Richard Sermon writes that \"hares were\n",
      "frequently seen in gardens in spring, and thus may have served as a convenient explanation for the\n",
      "origin of the colored eggs hidden there for children. Alternatively, there is a European tradition\n",
      "that hares laid eggs, since a hare’s scratch or form and a lapwing’s nest look very similar, and\n",
      "both occur on grassland and are first seen in the spring. In the nineteenth century the influence\n",
      "of Easter cards, toys, and books was to make the Easter Hare/Rabbit popular throughout Europe.\n",
      "German immigrants then exported the custom to Britain and America where it evolved into the\n",
      "Easter Bunny.\"\n",
      "Output: [ \"The earliest evidence for the Easter Hare was recorded in south-west Germany in\n",
      "1678 by Georg Franck von Franckenau.\", \"Georg Franck von Franckenau was a professor of\n",
      "medicine.\", \"The evidence for the Easter Hare remained unknown in other parts of Germany until\n",
      "the 18th century.\", \"Richard Sermon was a scholar.\", \"Richard Sermon writes a hypothesis about\n",
      "the possible explanation for the connection between hares and the tradition during Easter\", \"Hares\n",
      "were frequently seen in gardens in spring.\", \"Hares may have served as a convenient explanation\n",
      "for the origin of the colored eggs hidden in gardens for children.\", \"There is a European tradition\n",
      "that hares laid eggs.\", \"A hare’s scratch or form and a lapwing’s nest look very similar.\", \"Both\n",
      "hares and lapwing’s nests occur on grassland and are first seen in the spring.\", \"In the nineteenth\n",
      "century the influence of Easter cards, toys, and books was to make the Easter Hare/Rabbit popular\n",
      "throughout Europe.\", \"German immigrants exported the custom of the Easter Hare/Rabbit to\n",
      "Britain and America.\", \"The custom of the Easter Hare/Rabbit evolved into the Easter Bunny in\n",
      "Britain and America.\"]\n"
     ]
    }
   ],
   "source": [
    "print(proposition_prompt.messages[0].prompt.template)"
   ]
  },
  {
   "cell_type": "markdown",
   "metadata": {},
   "source": [
    "Next we will see what we expect from the LLM in Input Message. We will mae a small change to it as well for our HR context"
   ]
  },
  {
   "cell_type": "code",
   "execution_count": 20,
   "metadata": {},
   "outputs": [
    {
     "name": "stdout",
     "output_type": "stream",
     "text": [
      "Decompose the following:\n",
      "{input}\n",
      "\n",
      "This data is regarding HR Policies of India. Generate Proposistions and do decompositions accordingly\n"
     ]
    }
   ],
   "source": [
    "proposition_prompt.messages[1].prompt.template = proposition_prompt.messages[1].prompt.template + \"\\n\\n\" + \"This data is regarding HR Policies of India. Generate Proposistions and do decompositions accordingly\"\n",
    "print(proposition_prompt.messages[1].prompt.template)"
   ]
  },
  {
   "cell_type": "markdown",
   "metadata": {},
   "source": [
    "Next, we will initialize the llm with the prompt, which later can be invoked"
   ]
  },
  {
   "cell_type": "code",
   "execution_count": 21,
   "metadata": {},
   "outputs": [],
   "source": [
    "runnable = proposition_prompt | llm_gpt"
   ]
  },
  {
   "cell_type": "markdown",
   "metadata": {},
   "source": [
    "First we will decide the output format. We will use Pydantic to inform llm that we want output which is in json format and has a key sentences"
   ]
  },
  {
   "cell_type": "code",
   "execution_count": 22,
   "metadata": {},
   "outputs": [],
   "source": [
    "from langchain_core.pydantic_v1 import BaseModel, Field\n",
    "\n",
    "# Pydantic Class defining the structure of output\n",
    "class Sentences(BaseModel):\n",
    "    sentences: List[str] = Field(\n",
    "        description=\"These are the paragraphs from an HR policy\"\n",
    "    )\n",
    "\n",
    "# Initializing a chain which gives a structured output\n",
    "extraction_chain = llm_gpt.with_structured_output(Sentences)"
   ]
  },
  {
   "cell_type": "markdown",
   "metadata": {},
   "source": [
    "Let's define a function that takes a document as input and returns propositions, based on our prompt, as output"
   ]
  },
  {
   "cell_type": "code",
   "execution_count": 23,
   "metadata": {},
   "outputs": [],
   "source": [
    "def get_propositions(text):\n",
    "    \"\"\"\n",
    "        We will take a document, extract propositions out of it based on our Prompt\n",
    "    \"\"\"\n",
    "    # Pass the document to the runnable we created. It will give us the propositions\n",
    "    runnable_output = runnable.invoke({\"input\": text}).content\n",
    "\n",
    "    # We will extract the propositions from the above output into sentences.\n",
    "    propositions = extraction_chain.invoke(runnable_output)\n",
    "    \n",
    "    return propositions"
   ]
  },
  {
   "cell_type": "markdown",
   "metadata": {},
   "source": [
    "Now, for all the documents I will run the above function to extract propositions and store it in a list. We will use parallal processing to make the execution faster"
   ]
  },
  {
   "cell_type": "code",
   "execution_count": null,
   "metadata": {
    "scrolled": true
   },
   "outputs": [
    {
     "name": "stderr",
     "output_type": "stream",
     "text": [
      "/opt/conda/envs/rag/lib/python3.11/site-packages/langchain_openai/chat_models/base.py:1369: UserWarning: Received a Pydantic BaseModel V1 schema. This is not supported by method=\"json_schema\". Please use method=\"function_calling\" or specify schema via JSON Schema or Pydantic V2 BaseModel. Overriding to method=\"function_calling\".\n",
      "  warnings.warn(\n",
      "Processing paragraphs:   0%|▎                                                                                                                                               | 1/427 [00:00<05:39,  1.25it/s]"
     ]
    },
    {
     "name": "stdout",
     "output_type": "stream",
     "text": [
      "Done with 1\n"
     ]
    },
    {
     "name": "stderr",
     "output_type": "stream",
     "text": [
      "Processing paragraphs:   0%|▋                                                                                                                                               | 2/427 [00:01<06:44,  1.05it/s]"
     ]
    },
    {
     "name": "stdout",
     "output_type": "stream",
     "text": [
      "Done with 2\n"
     ]
    },
    {
     "name": "stderr",
     "output_type": "stream",
     "text": [
      "Processing paragraphs:   1%|█                                                                                                                                               | 3/427 [00:03<09:18,  1.32s/it]"
     ]
    },
    {
     "name": "stdout",
     "output_type": "stream",
     "text": [
      "Done with 0\n"
     ]
    },
    {
     "name": "stderr",
     "output_type": "stream",
     "text": [
      "Processing paragraphs:   1%|█▎                                                                                                                                              | 4/427 [00:13<32:29,  4.61s/it]"
     ]
    },
    {
     "name": "stdout",
     "output_type": "stream",
     "text": [
      "Done with 5\n"
     ]
    },
    {
     "name": "stderr",
     "output_type": "stream",
     "text": [
      "Processing paragraphs:   1%|█▋                                                                                                                                              | 5/427 [00:17<30:55,  4.40s/it]"
     ]
    },
    {
     "name": "stdout",
     "output_type": "stream",
     "text": [
      "Done with 3\n"
     ]
    },
    {
     "name": "stderr",
     "output_type": "stream",
     "text": [
      "Processing paragraphs:   1%|██                                                                                                                                              | 6/427 [00:20<28:28,  4.06s/it]"
     ]
    },
    {
     "name": "stdout",
     "output_type": "stream",
     "text": [
      "Done with 7\n"
     ]
    },
    {
     "name": "stderr",
     "output_type": "stream",
     "text": [
      "Processing paragraphs:   2%|██▎                                                                                                                                             | 7/427 [00:21<21:00,  3.00s/it]"
     ]
    },
    {
     "name": "stdout",
     "output_type": "stream",
     "text": [
      "Done with 4\n"
     ]
    },
    {
     "name": "stderr",
     "output_type": "stream",
     "text": [
      "Processing paragraphs:   2%|██▋                                                                                                                                             | 8/427 [00:24<20:04,  2.87s/it]"
     ]
    },
    {
     "name": "stdout",
     "output_type": "stream",
     "text": [
      "Done with 6\n"
     ]
    },
    {
     "name": "stderr",
     "output_type": "stream",
     "text": [
      "Processing paragraphs:   2%|███                                                                                                                                             | 9/427 [00:33<35:10,  5.05s/it]"
     ]
    },
    {
     "name": "stdout",
     "output_type": "stream",
     "text": [
      "Done with 8\n"
     ]
    },
    {
     "name": "stderr",
     "output_type": "stream",
     "text": [
      "Processing paragraphs:   2%|███▎                                                                                                                                           | 10/427 [00:34<24:46,  3.56s/it]"
     ]
    },
    {
     "name": "stdout",
     "output_type": "stream",
     "text": [
      "Done with 11\n"
     ]
    },
    {
     "name": "stderr",
     "output_type": "stream",
     "text": [
      "Processing paragraphs:   3%|███▋                                                                                                                                           | 11/427 [00:38<26:25,  3.81s/it]"
     ]
    },
    {
     "name": "stdout",
     "output_type": "stream",
     "text": [
      "Done with 12\n"
     ]
    },
    {
     "name": "stderr",
     "output_type": "stream",
     "text": [
      "Processing paragraphs:   3%|████                                                                                                                                           | 12/427 [00:42<26:34,  3.84s/it]"
     ]
    },
    {
     "name": "stdout",
     "output_type": "stream",
     "text": [
      "Done with 9\n"
     ]
    },
    {
     "name": "stderr",
     "output_type": "stream",
     "text": [
      "Processing paragraphs:   3%|████▎                                                                                                                                          | 13/427 [00:42<18:53,  2.74s/it]"
     ]
    },
    {
     "name": "stdout",
     "output_type": "stream",
     "text": [
      "Done with 10\n"
     ]
    },
    {
     "name": "stderr",
     "output_type": "stream",
     "text": [
      "Processing paragraphs:   3%|████▋                                                                                                                                          | 14/427 [00:53<36:29,  5.30s/it]"
     ]
    },
    {
     "name": "stdout",
     "output_type": "stream",
     "text": [
      "Done with 13\n"
     ]
    },
    {
     "name": "stderr",
     "output_type": "stream",
     "text": [
      "Processing paragraphs:   4%|█████▎                                                                                                                                         | 16/427 [00:56<22:09,  3.23s/it]"
     ]
    },
    {
     "name": "stdout",
     "output_type": "stream",
     "text": [
      "Done with 15\n",
      "Done with 16\n"
     ]
    },
    {
     "name": "stderr",
     "output_type": "stream",
     "text": [
      "Processing paragraphs:   4%|█████▋                                                                                                                                         | 17/427 [00:59<21:29,  3.14s/it]"
     ]
    },
    {
     "name": "stdout",
     "output_type": "stream",
     "text": [
      "Done with 14\n",
      "Done with 17\n"
     ]
    },
    {
     "name": "stderr",
     "output_type": "stream",
     "text": [
      "Processing paragraphs:   4%|██████▎                                                                                                                                        | 19/427 [01:07<24:18,  3.57s/it]"
     ]
    },
    {
     "name": "stdout",
     "output_type": "stream",
     "text": [
      "Done with 18\n"
     ]
    },
    {
     "name": "stderr",
     "output_type": "stream",
     "text": [
      "Processing paragraphs:   5%|██████▋                                                                                                                                        | 20/427 [01:12<25:14,  3.72s/it]"
     ]
    },
    {
     "name": "stdout",
     "output_type": "stream",
     "text": [
      "Done with 19\n"
     ]
    },
    {
     "name": "stderr",
     "output_type": "stream",
     "text": [
      "Processing paragraphs:   5%|███████                                                                                                                                        | 21/427 [01:12<20:04,  2.97s/it]"
     ]
    },
    {
     "name": "stdout",
     "output_type": "stream",
     "text": [
      "Done with 22\n"
     ]
    },
    {
     "name": "stderr",
     "output_type": "stream",
     "text": [
      "Processing paragraphs:   5%|███████▎                                                                                                                                       | 22/427 [01:13<14:57,  2.22s/it]"
     ]
    },
    {
     "name": "stdout",
     "output_type": "stream",
     "text": [
      "Done with 21\n"
     ]
    },
    {
     "name": "stderr",
     "output_type": "stream",
     "text": [
      "Processing paragraphs:   5%|███████▋                                                                                                                                       | 23/427 [01:18<20:35,  3.06s/it]"
     ]
    },
    {
     "name": "stdout",
     "output_type": "stream",
     "text": [
      "Done with 20\n"
     ]
    },
    {
     "name": "stderr",
     "output_type": "stream",
     "text": [
      "Processing paragraphs:   5%|███████▋                                                                                                                                       | 23/427 [01:21<23:48,  3.54s/it]\n"
     ]
    },
    {
     "ename": "KeyboardInterrupt",
     "evalue": "",
     "output_type": "error",
     "traceback": [
      "\u001b[0;31m---------------------------------------------------------------------------\u001b[0m",
      "\u001b[0;31mKeyboardInterrupt\u001b[0m                         Traceback (most recent call last)",
      "Cell \u001b[0;32mIn[10], line 36\u001b[0m\n\u001b[1;32m     32\u001b[0m futures \u001b[38;5;241m=\u001b[39m {\n\u001b[1;32m     33\u001b[0m     executor\u001b[38;5;241m.\u001b[39msubmit(process_paragraph, para): i \u001b[38;5;28;01mfor\u001b[39;00m i, para \u001b[38;5;129;01min\u001b[39;00m \u001b[38;5;28menumerate\u001b[39m(documents)\n\u001b[1;32m     34\u001b[0m }\n\u001b[0;32m---> 36\u001b[0m \u001b[43m\u001b[49m\u001b[38;5;28;43;01mfor\u001b[39;49;00m\u001b[43m \u001b[49m\u001b[43mfuture\u001b[49m\u001b[43m \u001b[49m\u001b[38;5;129;43;01min\u001b[39;49;00m\u001b[43m \u001b[49m\u001b[43mtqdm\u001b[49m\u001b[43m(\u001b[49m\u001b[43mas_completed\u001b[49m\u001b[43m(\u001b[49m\u001b[43mfutures\u001b[49m\u001b[43m)\u001b[49m\u001b[43m,\u001b[49m\u001b[43m \u001b[49m\u001b[43mtotal\u001b[49m\u001b[38;5;241;43m=\u001b[39;49m\u001b[38;5;28;43mlen\u001b[39;49m\u001b[43m(\u001b[49m\u001b[43mfutures\u001b[49m\u001b[43m)\u001b[49m\u001b[43m,\u001b[49m\u001b[43m \u001b[49m\u001b[43mdesc\u001b[49m\u001b[38;5;241;43m=\u001b[39;49m\u001b[38;5;124;43m\"\u001b[39;49m\u001b[38;5;124;43mProcessing paragraphs\u001b[39;49m\u001b[38;5;124;43m\"\u001b[39;49m\u001b[43m)\u001b[49m\u001b[43m:\u001b[49m\n\u001b[1;32m     37\u001b[0m \u001b[43m    \u001b[49m\u001b[43mi\u001b[49m\u001b[43m \u001b[49m\u001b[38;5;241;43m=\u001b[39;49m\u001b[43m \u001b[49m\u001b[43mfutures\u001b[49m\u001b[43m[\u001b[49m\u001b[43mfuture\u001b[49m\u001b[43m]\u001b[49m\u001b[43m  \u001b[49m\u001b[38;5;66;43;03m# Get the paragraph index\u001b[39;49;00m\n",
      "File \u001b[0;32m/opt/conda/envs/rag/lib/python3.11/site-packages/tqdm/std.py:1181\u001b[0m, in \u001b[0;36mtqdm.__iter__\u001b[0;34m(self)\u001b[0m\n\u001b[1;32m   1180\u001b[0m \u001b[38;5;28;01mtry\u001b[39;00m:\n\u001b[0;32m-> 1181\u001b[0m \u001b[43m    \u001b[49m\u001b[38;5;28;43;01mfor\u001b[39;49;00m\u001b[43m \u001b[49m\u001b[43mobj\u001b[49m\u001b[43m \u001b[49m\u001b[38;5;129;43;01min\u001b[39;49;00m\u001b[43m \u001b[49m\u001b[43miterable\u001b[49m\u001b[43m:\u001b[49m\n\u001b[1;32m   1182\u001b[0m \u001b[43m        \u001b[49m\u001b[38;5;28;43;01myield\u001b[39;49;00m\u001b[43m \u001b[49m\u001b[43mobj\u001b[49m\n",
      "File \u001b[0;32m/opt/conda/envs/rag/lib/python3.11/concurrent/futures/_base.py:243\u001b[0m, in \u001b[0;36mas_completed\u001b[0;34m(fs, timeout)\u001b[0m\n\u001b[1;32m    239\u001b[0m         \u001b[38;5;28;01mraise\u001b[39;00m \u001b[38;5;167;01mTimeoutError\u001b[39;00m(\n\u001b[1;32m    240\u001b[0m                 \u001b[38;5;124m'\u001b[39m\u001b[38;5;132;01m%d\u001b[39;00m\u001b[38;5;124m (of \u001b[39m\u001b[38;5;132;01m%d\u001b[39;00m\u001b[38;5;124m) futures unfinished\u001b[39m\u001b[38;5;124m'\u001b[39m \u001b[38;5;241m%\u001b[39m (\n\u001b[1;32m    241\u001b[0m                 \u001b[38;5;28mlen\u001b[39m(pending), total_futures))\n\u001b[0;32m--> 243\u001b[0m \u001b[43mwaiter\u001b[49m\u001b[38;5;241;43m.\u001b[39;49m\u001b[43mevent\u001b[49m\u001b[38;5;241;43m.\u001b[39;49m\u001b[43mwait\u001b[49m\u001b[43m(\u001b[49m\u001b[43mwait_timeout\u001b[49m\u001b[43m)\u001b[49m\n\u001b[1;32m    245\u001b[0m \u001b[38;5;28;01mwith\u001b[39;00m waiter\u001b[38;5;241m.\u001b[39mlock:\n",
      "File \u001b[0;32m/opt/conda/envs/rag/lib/python3.11/threading.py:622\u001b[0m, in \u001b[0;36mEvent.wait\u001b[0;34m(self, timeout)\u001b[0m\n\u001b[1;32m    621\u001b[0m \u001b[38;5;28;01mif\u001b[39;00m \u001b[38;5;129;01mnot\u001b[39;00m signaled:\n\u001b[0;32m--> 622\u001b[0m     signaled \u001b[38;5;241m=\u001b[39m \u001b[38;5;28;43mself\u001b[39;49m\u001b[38;5;241;43m.\u001b[39;49m\u001b[43m_cond\u001b[49m\u001b[38;5;241;43m.\u001b[39;49m\u001b[43mwait\u001b[49m\u001b[43m(\u001b[49m\u001b[43mtimeout\u001b[49m\u001b[43m)\u001b[49m\n\u001b[1;32m    623\u001b[0m \u001b[38;5;28;01mreturn\u001b[39;00m signaled\n",
      "File \u001b[0;32m/opt/conda/envs/rag/lib/python3.11/threading.py:320\u001b[0m, in \u001b[0;36mCondition.wait\u001b[0;34m(self, timeout)\u001b[0m\n\u001b[1;32m    319\u001b[0m \u001b[38;5;28;01mif\u001b[39;00m timeout \u001b[38;5;129;01mis\u001b[39;00m \u001b[38;5;28;01mNone\u001b[39;00m:\n\u001b[0;32m--> 320\u001b[0m     \u001b[43mwaiter\u001b[49m\u001b[38;5;241;43m.\u001b[39;49m\u001b[43macquire\u001b[49m\u001b[43m(\u001b[49m\u001b[43m)\u001b[49m\n\u001b[1;32m    321\u001b[0m     gotit \u001b[38;5;241m=\u001b[39m \u001b[38;5;28;01mTrue\u001b[39;00m\n",
      "\u001b[0;31mKeyboardInterrupt\u001b[0m: ",
      "\nDuring handling of the above exception, another exception occurred:\n",
      "\u001b[0;31mKeyboardInterrupt\u001b[0m                         Traceback (most recent call last)",
      "Cell \u001b[0;32mIn[10], line 31\u001b[0m\n\u001b[1;32m     28\u001b[0m         \u001b[38;5;28;01mreturn\u001b[39;00m \u001b[38;5;124m\"\u001b[39m\u001b[38;5;124m\"\u001b[39m\n\u001b[1;32m     29\u001b[0m     \u001b[38;5;28;01mreturn\u001b[39;00m propositions\u001b[38;5;241m.\u001b[39msentences\n\u001b[0;32m---> 31\u001b[0m \u001b[38;5;28;43;01mwith\u001b[39;49;00m\u001b[43m \u001b[49m\u001b[43mconcurrent\u001b[49m\u001b[38;5;241;43m.\u001b[39;49m\u001b[43mfutures\u001b[49m\u001b[38;5;241;43m.\u001b[39;49m\u001b[43mThreadPoolExecutor\u001b[49m\u001b[43m(\u001b[49m\u001b[43mmax_workers\u001b[49m\u001b[38;5;241;43m=\u001b[39;49m\u001b[38;5;241;43m5\u001b[39;49m\u001b[43m)\u001b[49m\u001b[43m \u001b[49m\u001b[38;5;28;43;01mas\u001b[39;49;00m\u001b[43m \u001b[49m\u001b[43mexecutor\u001b[49m\u001b[43m:\u001b[49m\n\u001b[1;32m     32\u001b[0m \u001b[43m    \u001b[49m\u001b[43mfutures\u001b[49m\u001b[43m \u001b[49m\u001b[38;5;241;43m=\u001b[39;49m\u001b[43m \u001b[49m\u001b[43m{\u001b[49m\n\u001b[1;32m     33\u001b[0m \u001b[43m        \u001b[49m\u001b[43mexecutor\u001b[49m\u001b[38;5;241;43m.\u001b[39;49m\u001b[43msubmit\u001b[49m\u001b[43m(\u001b[49m\u001b[43mprocess_paragraph\u001b[49m\u001b[43m,\u001b[49m\u001b[43m \u001b[49m\u001b[43mpara\u001b[49m\u001b[43m)\u001b[49m\u001b[43m:\u001b[49m\u001b[43m \u001b[49m\u001b[43mi\u001b[49m\u001b[43m \u001b[49m\u001b[38;5;28;43;01mfor\u001b[39;49;00m\u001b[43m \u001b[49m\u001b[43mi\u001b[49m\u001b[43m,\u001b[49m\u001b[43m \u001b[49m\u001b[43mpara\u001b[49m\u001b[43m \u001b[49m\u001b[38;5;129;43;01min\u001b[39;49;00m\u001b[43m \u001b[49m\u001b[38;5;28;43menumerate\u001b[39;49m\u001b[43m(\u001b[49m\u001b[43mdocuments\u001b[49m\u001b[43m)\u001b[49m\n\u001b[1;32m     34\u001b[0m \u001b[43m    \u001b[49m\u001b[43m}\u001b[49m\n\u001b[1;32m     36\u001b[0m \u001b[43m    \u001b[49m\u001b[38;5;28;43;01mfor\u001b[39;49;00m\u001b[43m \u001b[49m\u001b[43mfuture\u001b[49m\u001b[43m \u001b[49m\u001b[38;5;129;43;01min\u001b[39;49;00m\u001b[43m \u001b[49m\u001b[43mtqdm\u001b[49m\u001b[43m(\u001b[49m\u001b[43mas_completed\u001b[49m\u001b[43m(\u001b[49m\u001b[43mfutures\u001b[49m\u001b[43m)\u001b[49m\u001b[43m,\u001b[49m\u001b[43m \u001b[49m\u001b[43mtotal\u001b[49m\u001b[38;5;241;43m=\u001b[39;49m\u001b[38;5;28;43mlen\u001b[39;49m\u001b[43m(\u001b[49m\u001b[43mfutures\u001b[49m\u001b[43m)\u001b[49m\u001b[43m,\u001b[49m\u001b[43m \u001b[49m\u001b[43mdesc\u001b[49m\u001b[38;5;241;43m=\u001b[39;49m\u001b[38;5;124;43m\"\u001b[39;49m\u001b[38;5;124;43mProcessing paragraphs\u001b[39;49m\u001b[38;5;124;43m\"\u001b[39;49m\u001b[43m)\u001b[49m\u001b[43m:\u001b[49m\n",
      "File \u001b[0;32m/opt/conda/envs/rag/lib/python3.11/concurrent/futures/_base.py:647\u001b[0m, in \u001b[0;36mExecutor.__exit__\u001b[0;34m(self, exc_type, exc_val, exc_tb)\u001b[0m\n\u001b[1;32m    646\u001b[0m \u001b[38;5;28;01mdef\u001b[39;00m\u001b[38;5;250m \u001b[39m\u001b[38;5;21m__exit__\u001b[39m(\u001b[38;5;28mself\u001b[39m, exc_type, exc_val, exc_tb):\n\u001b[0;32m--> 647\u001b[0m     \u001b[38;5;28;43mself\u001b[39;49m\u001b[38;5;241;43m.\u001b[39;49m\u001b[43mshutdown\u001b[49m\u001b[43m(\u001b[49m\u001b[43mwait\u001b[49m\u001b[38;5;241;43m=\u001b[39;49m\u001b[38;5;28;43;01mTrue\u001b[39;49;00m\u001b[43m)\u001b[49m\n\u001b[1;32m    648\u001b[0m     \u001b[38;5;28;01mreturn\u001b[39;00m \u001b[38;5;28;01mFalse\u001b[39;00m\n",
      "File \u001b[0;32m/opt/conda/envs/rag/lib/python3.11/concurrent/futures/thread.py:235\u001b[0m, in \u001b[0;36mThreadPoolExecutor.shutdown\u001b[0;34m(self, wait, cancel_futures)\u001b[0m\n\u001b[1;32m    233\u001b[0m \u001b[38;5;28;01mif\u001b[39;00m wait:\n\u001b[1;32m    234\u001b[0m     \u001b[38;5;28;01mfor\u001b[39;00m t \u001b[38;5;129;01min\u001b[39;00m \u001b[38;5;28mself\u001b[39m\u001b[38;5;241m.\u001b[39m_threads:\n\u001b[0;32m--> 235\u001b[0m         \u001b[43mt\u001b[49m\u001b[38;5;241;43m.\u001b[39;49m\u001b[43mjoin\u001b[49m\u001b[43m(\u001b[49m\u001b[43m)\u001b[49m\n",
      "File \u001b[0;32m/opt/conda/envs/rag/lib/python3.11/threading.py:1112\u001b[0m, in \u001b[0;36mThread.join\u001b[0;34m(self, timeout)\u001b[0m\n\u001b[1;32m   1109\u001b[0m     \u001b[38;5;28;01mraise\u001b[39;00m \u001b[38;5;167;01mRuntimeError\u001b[39;00m(\u001b[38;5;124m\"\u001b[39m\u001b[38;5;124mcannot join current thread\u001b[39m\u001b[38;5;124m\"\u001b[39m)\n\u001b[1;32m   1111\u001b[0m \u001b[38;5;28;01mif\u001b[39;00m timeout \u001b[38;5;129;01mis\u001b[39;00m \u001b[38;5;28;01mNone\u001b[39;00m:\n\u001b[0;32m-> 1112\u001b[0m     \u001b[38;5;28;43mself\u001b[39;49m\u001b[38;5;241;43m.\u001b[39;49m\u001b[43m_wait_for_tstate_lock\u001b[49m\u001b[43m(\u001b[49m\u001b[43m)\u001b[49m\n\u001b[1;32m   1113\u001b[0m \u001b[38;5;28;01melse\u001b[39;00m:\n\u001b[1;32m   1114\u001b[0m     \u001b[38;5;66;03m# the behavior of a negative timeout isn't documented, but\u001b[39;00m\n\u001b[1;32m   1115\u001b[0m     \u001b[38;5;66;03m# historically .join(timeout=x) for x<0 has acted as if timeout=0\u001b[39;00m\n\u001b[1;32m   1116\u001b[0m     \u001b[38;5;28mself\u001b[39m\u001b[38;5;241m.\u001b[39m_wait_for_tstate_lock(timeout\u001b[38;5;241m=\u001b[39m\u001b[38;5;28mmax\u001b[39m(timeout, \u001b[38;5;241m0\u001b[39m))\n",
      "File \u001b[0;32m/opt/conda/envs/rag/lib/python3.11/threading.py:1132\u001b[0m, in \u001b[0;36mThread._wait_for_tstate_lock\u001b[0;34m(self, block, timeout)\u001b[0m\n\u001b[1;32m   1129\u001b[0m     \u001b[38;5;28;01mreturn\u001b[39;00m\n\u001b[1;32m   1131\u001b[0m \u001b[38;5;28;01mtry\u001b[39;00m:\n\u001b[0;32m-> 1132\u001b[0m     \u001b[38;5;28;01mif\u001b[39;00m \u001b[43mlock\u001b[49m\u001b[38;5;241;43m.\u001b[39;49m\u001b[43macquire\u001b[49m\u001b[43m(\u001b[49m\u001b[43mblock\u001b[49m\u001b[43m,\u001b[49m\u001b[43m \u001b[49m\u001b[43mtimeout\u001b[49m\u001b[43m)\u001b[49m:\n\u001b[1;32m   1133\u001b[0m         lock\u001b[38;5;241m.\u001b[39mrelease()\n\u001b[1;32m   1134\u001b[0m         \u001b[38;5;28mself\u001b[39m\u001b[38;5;241m.\u001b[39m_stop()\n",
      "\u001b[0;31mKeyboardInterrupt\u001b[0m: "
     ]
    }
   ],
   "source": [
    "import concurrent.futures\n",
    "import json\n",
    "\n",
    "essay_propositions = []\n",
    "\n",
    "\n",
    "def process_paragraph(para):\n",
    "    \"\"\"Utility function for parallelization\"\"\"\n",
    "    propositions = get_propositions(para.page_content)\n",
    "    return propositions.sentences\n",
    "\n",
    "with concurrent.futures.ThreadPoolExecutor(max_workers=5) as executor:\n",
    "    futures = {\n",
    "        executor.submit(process_paragraph, para): i for i, para in enumerate(documents)\n",
    "    }\n",
    "\n",
    "    for future in concurrent.futures.as_completed(futures):\n",
    "        i = futures[future]  # Get the paragraph index\n",
    "        try:\n",
    "            essay_propositions.extend(future.result())\n",
    "        except Exception as e:\n",
    "            print(f\"Error processing paragraph {i}: {e}\")\n",
    "        print(f\"Done with {i}\")"
   ]
  },
  {
   "cell_type": "markdown",
   "metadata": {},
   "source": [
    "Let's persist the propositions, so that we don't need to run it everytime we open the notebook"
   ]
  },
  {
   "cell_type": "code",
   "execution_count": null,
   "metadata": {},
   "outputs": [],
   "source": [
    "load = False\n",
    "\n",
    "if load:\n",
    "    with open(\"essay_propositions.json\", 'r') as file:\n",
    "        essay_propositions = json.load(file)\n",
    "else:\n",
    "    temp_dict = {}\n",
    "    temp_dict[\"essay_propositions\"] = essay_propositions\n",
    "    with open(\"essay_propositions.json\", 'w') as file:\n",
    "        json.dump(temp_dict, file, indent=4)"
   ]
  },
  {
   "cell_type": "markdown",
   "metadata": {},
   "source": [
    "We will follow following steps to club the propositions\n",
    "\n",
    "1. First we will take the very first proposition. As it is the first one, we will create a new chunk and add it to that list\n",
    "2. Once the next chunk comes, we see if its similar to the previous chunks or not. If yes, it will be added to that particular chunk. If not a new chunk will be created.\n",
    "3. For finding similarity, we use llm with a prompt.\n",
    "4. We repeat this process till all the propositions are assigned to different chunks. Finally, we store the embeddings of chunks in DB, similar to other chunking methods"
   ]
  },
  {
   "cell_type": "code",
   "execution_count": null,
   "metadata": {},
   "outputs": [],
   "source": [
    "import concurrent.futures\n",
    "\n",
    "\n",
    "import logging\n",
    "logging.getLogger().setLevel(logging.ERROR)\n",
    "\n",
    "    \n",
    "essay_propositions = essay_propositions[\"essay_propositions\"]\n",
    "    \n",
    "# Initialize the AgenticChunker\n",
    "ac = AgenticChunker()\n",
    "\n",
    "def process_single_proposition(proposition):\n",
    "    \"\"\"Worker function to process a single proposition in the shared AgenticChunker instance.\"\"\"\n",
    "    # Each proposition will either be assigned to a new chunk, or appended to an existing chunk based on similarity\n",
    "    ac.add_proposition(proposition)\n",
    "\n",
    "def process_propositions_parallel(essay_propositions, max_workers=50):\n",
    "    \"\"\"\n",
    "    Processes propositions in parallel using a shared AgenticChunker instance.\n",
    "    Each batch contains at most `max_workers` propositions.\n",
    "    \"\"\"\n",
    "    # Using ThreadPoolExecutor with 10 workers\n",
    "    with concurrent.futures.ThreadPoolExecutor(max_workers=max_workers) as executor:\n",
    "        # Submitting the propositions in batches of `max_workers`\n",
    "        for i in range(0, len(essay_propositions), max_workers):\n",
    "            batch = essay_propositions[i:i + max_workers]\n",
    "            futures = [executor.submit(process_single_proposition, prop) for prop in batch]\n",
    "\n",
    "            # Wait for batch completion before submitting the next batch\n",
    "            concurrent.futures.wait(futures)\n",
    "            print(f\"Finished {i} chunks\")\n",
    "    \n",
    "    # Return the final chunks after all propositions are processed\n",
    "    return ac.get_chunks(get_type='dict')\n",
    "\n",
    "# Run parallel processing\n",
    "final_chunks = process_propositions_parallel(essay_propositions)"
   ]
  },
  {
   "cell_type": "markdown",
   "metadata": {},
   "source": [
    "Once all the assignments of propositions to chunks is done, we persist the chunks created, so as not to do the entire process again"
   ]
  },
  {
   "cell_type": "code",
   "execution_count": null,
   "metadata": {},
   "outputs": [],
   "source": [
    "chunked_documents = {}\n",
    "for i, (id, chunk) in enumerate(final_chunks.items()):\n",
    "    final_string = \"\"\n",
    "    final_string += f\"Title: {chunk['title']}\\n\\n\"\n",
    "    final_string += f\"Summary: {chunk['summary']}\\n\\n\"\n",
    "    propositions = [(\"\").join(p) for p in chunk[\"propositions\"]]\n",
    "    final_string += f\"Propositions:\\n {propositions[0]}\"\n",
    "    chunked_documents[f\"chunk_{i}\"] = final_string\n",
    "\n",
    "with open(\"agentic_chunks.json\", 'w') as file:\n",
    "    json.dump(chunked_documents, file, indent=4)"
   ]
  },
  {
   "cell_type": "code",
   "execution_count": 47,
   "metadata": {},
   "outputs": [],
   "source": [
    "import json\n",
    "from langchain_core.documents import Document\n",
    "\n",
    "load = False\n",
    "\n",
    "if load:\n",
    "    with open(\"./agentic_chunks.json\", 'r') as file:\n",
    "        chunked_documents = json.load(file)\n",
    "\n",
    "    chunks = []\n",
    "\n",
    "    # Convert each chunk to a Langchain Document\n",
    "    for k, v in chunked_documents.items():\n",
    "        chunks.append(Document(page_content=v))\n",
    "    \n",
    "    vectordb_agentic = create_or_load_vector_db(chunked_documents=chunks, persist_directory=\"./vector_store_agentic\", load=True)\n",
    "\n",
    "else:\n",
    "    vectordb_agentic = create_or_load_vector_db(chunked_documents=\"\", persist_directory=\"./vector_store_agentic\", load=False)\n",
    "        "
   ]
  },
  {
   "cell_type": "markdown",
   "metadata": {},
   "source": [
    "## Agentic Chunking - Custom"
   ]
  },
  {
   "cell_type": "markdown",
   "metadata": {},
   "source": [
    "Taking inspiration from the Agentic Chunking Paper and the previous implementation of it, I made a small modification.\n",
    "\n",
    "Earlier we clubbed the propositions together based on similarity and created chunks out of it. In this approach I will take one of the chunking strategies which performed better for me, and then create propositions from that chunk and create embeddings of that proposition.\n",
    "\n",
    "It is just a thought to give it a try and measure its performance"
   ]
  },
  {
   "cell_type": "code",
   "execution_count": 54,
   "metadata": {},
   "outputs": [],
   "source": [
    "from langchain.output_parsers.openai_tools import JsonOutputToolsParser\n",
    "from langchain_community.chat_models import ChatOpenAI\n",
    "from langchain_core.prompts import ChatPromptTemplate\n",
    "from langchain_core.runnables import RunnableLambda\n",
    "from langchain.chains import create_extraction_chain\n",
    "from typing import Optional, List\n",
    "from langchain.chains import create_extraction_chain_pydantic\n",
    "from langchain_core.pydantic_v1 import BaseModel\n",
    "from langchain import hub"
   ]
  },
  {
   "cell_type": "code",
   "execution_count": 55,
   "metadata": {},
   "outputs": [],
   "source": [
    "proposition_prompt = hub.pull(\"wfh/proposal-indexing\")\n",
    "proposition_prompt.messages[1].prompt.template = proposition_prompt.messages[1].prompt.template + \"\\n\\n\" + \"This data is regarding HR Policies of India. Generate Proposistions and do decompositions accordingly\"\n",
    "runnable = proposition_prompt | llm_gpt"
   ]
  },
  {
   "cell_type": "code",
   "execution_count": 56,
   "metadata": {},
   "outputs": [],
   "source": [
    "from langchain.text_splitter import RecursiveCharacterTextSplitter\n",
    "\n",
    "text_splitter = RecursiveCharacterTextSplitter(\n",
    "chunk_size = 2048,\n",
    "chunk_overlap  = 512\n",
    ")\n",
    "\n",
    "chunked_documents_recursive  = text_splitter.split_documents(documents)"
   ]
  },
  {
   "cell_type": "code",
   "execution_count": 57,
   "metadata": {
    "collapsed": true,
    "jupyter": {
     "outputs_hidden": true
    },
    "scrolled": true
   },
   "outputs": [
    {
     "name": "stdout",
     "output_type": "stream",
     "text": [
      "Done with 4\n",
      "Done with 2\n",
      "Done with 6\n",
      "Done with 1\n",
      "Done with 3\n",
      "Done with 8\n",
      "Done with 0\n",
      "Done with 5\n",
      "Done with 7\n",
      "Done with 9\n",
      "Done with 10\n",
      "Done with 12\n",
      "Done with 14\n",
      "Done with 16\n",
      "Done with 11\n",
      "Done with 13\n",
      "Done with 15\n",
      "Done with 18\n",
      "Done with 17\n",
      "Done with 20\n",
      "Done with 23\n",
      "Done with 25\n",
      "Done with 19\n",
      "Done with 22\n",
      "Done with 24\n",
      "Done with 21\n",
      "Done with 29\n",
      "Done with 27\n",
      "Done with 26\n",
      "Done with 30\n",
      "Done with 28\n",
      "Done with 31\n",
      "Done with 35\n",
      "Done with 33\n",
      "Done with 34\n",
      "Done with 36\n",
      "Done with 32\n",
      "Done with 37\n",
      "Done with 41\n",
      "Done with 39\n",
      "Done with 44\n",
      "Done with 42\n",
      "Done with 38\n",
      "Done with 43\n",
      "Done with 46\n",
      "Done with 47\n",
      "Done with 45\n",
      "Done with 40\n",
      "Done with 48\n",
      "Done with 49\n",
      "Done with 50\n",
      "Done with 51\n",
      "Done with 52\n",
      "Done with 53\n",
      "Done with 54\n",
      "Done with 57\n",
      "Done with 55\n",
      "Done with 56\n",
      "Done with 58\n",
      "Done with 60\n",
      "Done with 59\n",
      "Done with 62\n",
      "Done with 61\n",
      "Done with 63\n",
      "Done with 67\n",
      "Done with 64\n",
      "Done with 66\n",
      "Done with 69\n",
      "Done with 68\n",
      "Done with 70\n",
      "Done with 73\n",
      "Done with 71\n",
      "Done with 76\n",
      "Done with 72\n",
      "Done with 65\n",
      "Done with 75\n",
      "Done with 78\n",
      "Done with 80\n",
      "Done with 74\n",
      "Done with 77\n",
      "Done with 82\n",
      "Done with 79\n",
      "Done with 84\n",
      "Done with 83\n",
      "Done with 81\n",
      "Done with 86\n",
      "Done with 87\n",
      "Done with 90\n",
      "Done with 88\n",
      "Done with 85\n",
      "Done with 89\n",
      "Done with 92\n",
      "Done with 94\n",
      "Done with 91\n",
      "Done with 97\n",
      "Done with 99\n",
      "Done with 93\n",
      "Done with 95\n",
      "Done with 101\n",
      "Done with 102\n",
      "Done with 98\n",
      "Done with 96\n",
      "Done with 100\n",
      "Done with 107\n",
      "Done with 105\n",
      "Done with 104\n",
      "Done with 106\n",
      "Done with 103\n",
      "Done with 110\n",
      "Done with 112\n",
      "Done with 108\n",
      "Done with 111\n",
      "Done with 109\n",
      "Done with 113\n",
      "Done with 114\n",
      "Done with 116\n",
      "Done with 115\n",
      "Done with 117\n",
      "Done with 118\n",
      "Done with 122\n",
      "Done with 119\n",
      "Done with 121\n",
      "Done with 123\n",
      "Done with 125\n",
      "Done with 120\n",
      "Done with 124\n",
      "Done with 126\n",
      "Done with 127\n",
      "Done with 128\n",
      "Done with 131\n",
      "Done with 129\n",
      "Done with 130\n",
      "Done with 132\n",
      "Done with 136\n",
      "Done with 134\n",
      "Done with 135\n",
      "Done with 138\n",
      "Done with 133\n",
      "Done with 140\n",
      "Done with 142\n",
      "Done with 139\n",
      "Done with 141\n",
      "Done with 144\n",
      "Done with 143\n",
      "Done with 145\n",
      "Done with 137\n",
      "Done with 146\n",
      "Done with 148\n",
      "Done with 147\n",
      "Done with 151\n",
      "Done with 149\n",
      "Done with 152\n",
      "Done with 150\n",
      "Done with 153\n",
      "Done with 154\n",
      "Done with 157\n",
      "Done with 156\n",
      "Done with 155\n",
      "Done with 161\n",
      "Done with 158\n",
      "Done with 159\n",
      "Done with 162\n",
      "Done with 163\n",
      "Done with 160\n",
      "Done with 164\n",
      "Done with 165\n",
      "Done with 166\n",
      "Done with 167\n",
      "Done with 170\n",
      "Done with 172\n",
      "Done with 169\n",
      "Done with 168\n",
      "Done with 171\n",
      "Done with 174\n",
      "Done with 173\n",
      "Done with 176\n",
      "Done with 175\n",
      "Done with 179\n",
      "Done with 178\n",
      "Done with 181\n",
      "Done with 180\n",
      "Done with 182\n",
      "Done with 177\n",
      "Done with 183\n",
      "Done with 185\n",
      "Done with 184\n",
      "Done with 186\n",
      "Done with 188\n",
      "Done with 190\n",
      "Done with 187\n",
      "Done with 193\n",
      "Done with 189\n",
      "Done with 191\n",
      "Done with 197\n",
      "Done with 196\n",
      "Done with 192\n",
      "Done with 195\n",
      "Done with 199\n",
      "Done with 198\n",
      "Done with 200\n",
      "Done with 201\n",
      "Done with 202\n",
      "Done with 204\n",
      "Done with 207\n",
      "Done with 203\n",
      "Done with 206\n",
      "Done with 205\n",
      "Done with 194\n",
      "Done with 208\n",
      "Done with 210\n",
      "Done with 212\n",
      "Done with 211\n",
      "Done with 209\n",
      "Done with 213\n",
      "Done with 218\n",
      "Done with 216\n",
      "Done with 215\n",
      "Done with 217\n",
      "Done with 214\n",
      "Done with 221\n",
      "Done with 220\n",
      "Done with 219\n",
      "Done with 222\n",
      "Done with 223\n",
      "Done with 224\n",
      "Done with 227\n",
      "Done with 226\n",
      "Done with 225\n",
      "Done with 229\n",
      "Done with 228\n",
      "Done with 231\n",
      "Done with 232\n",
      "Done with 230\n",
      "Done with 237\n",
      "Done with 235\n",
      "Done with 234\n",
      "Done with 236\n",
      "Done with 233\n",
      "Done with 238\n",
      "Done with 240\n",
      "Done with 239\n",
      "Done with 244\n",
      "Done with 243\n",
      "Done with 241\n",
      "Done with 242\n",
      "Done with 246\n",
      "Done with 245\n",
      "Done with 247\n",
      "Done with 248\n",
      "Done with 249\n",
      "Done with 250\n",
      "Done with 252\n",
      "Done with 254\n",
      "Done with 253\n",
      "Done with 251\n",
      "Done with 256\n",
      "Done with 257\n",
      "Done with 255\n",
      "Done with 259\n",
      "Done with 258\n",
      "Done with 260\n",
      "Done with 262\n",
      "Done with 261\n",
      "Done with 264\n",
      "Done with 263\n",
      "Done with 267\n",
      "Done with 265\n",
      "Done with 266\n",
      "Done with 269\n",
      "Done with 268\n",
      "Done with 270\n",
      "Done with 271\n",
      "Done with 272\n",
      "Done with 274\n",
      "Done with 273\n",
      "Done with 275\n",
      "Done with 276\n",
      "Done with 277\n",
      "Done with 279\n",
      "Done with 281\n",
      "Done with 282\n",
      "Done with 280\n",
      "Done with 278\n",
      "Done with 284\n",
      "Done with 283\n",
      "Done with 285\n",
      "Done with 286\n",
      "Done with 287\n",
      "Done with 289\n",
      "Done with 292\n",
      "Done with 290\n",
      "Done with 288\n",
      "Done with 291\n",
      "Done with 294\n",
      "Done with 295\n",
      "Done with 293\n",
      "Done with 297\n",
      "Done with 298\n",
      "Done with 296\n",
      "Done with 302\n",
      "Done with 300\n",
      "Done with 299\n",
      "Done with 301\n",
      "Done with 303\n",
      "Done with 305\n",
      "Done with 308\n",
      "Done with 304\n",
      "Done with 307\n",
      "Done with 306\n",
      "Done with 311\n",
      "Done with 310\n",
      "Done with 309\n",
      "Done with 314\n",
      "Done with 316\n",
      "Done with 315\n",
      "Done with 313\n",
      "Done with 312\n",
      "Done with 320\n",
      "Done with 317\n",
      "Done with 319\n",
      "Done with 321\n",
      "Done with 318\n",
      "Done with 323\n",
      "Done with 322\n",
      "Done with 326\n",
      "Done with 324\n",
      "Done with 325\n",
      "Done with 328\n",
      "Done with 329\n",
      "Done with 331\n",
      "Done with 332\n",
      "Done with 330\n",
      "Done with 327\n",
      "Done with 333\n",
      "Done with 336\n",
      "Done with 334\n",
      "Done with 335\n",
      "Done with 338\n",
      "Done with 337\n",
      "Done with 339\n",
      "Done with 340\n",
      "Done with 343\n",
      "Done with 341\n",
      "Done with 342\n",
      "Done with 344\n",
      "Done with 349\n",
      "Done with 346\n",
      "Done with 347\n",
      "Done with 345\n",
      "Done with 351\n",
      "Done with 348\n",
      "Done with 353\n",
      "Done with 352\n",
      "Done with 354\n",
      "Done with 355\n",
      "Done with 357\n",
      "Done with 359\n",
      "Done with 356\n",
      "Done with 350\n",
      "Done with 361\n",
      "Done with 358\n",
      "Done with 362\n",
      "Done with 364\n",
      "Done with 363\n",
      "Done with 360\n",
      "Done with 366\n",
      "Done with 369\n",
      "Done with 368\n",
      "Done with 365\n",
      "Done with 371\n",
      "Done with 367\n",
      "Done with 370\n",
      "Done with 373\n",
      "Done with 372\n",
      "Done with 378\n",
      "Done with 377\n",
      "Done with 374\n",
      "Done with 380\n",
      "Done with 376\n",
      "Done with 375\n",
      "Done with 381\n",
      "Done with 383\n",
      "Done with 382\n",
      "Done with 384\n",
      "Done with 385\n",
      "Done with 379\n",
      "Done with 387\n",
      "Done with 388\n",
      "Done with 390\n",
      "Done with 391\n",
      "Done with 389\n",
      "Done with 386\n",
      "Done with 392\n",
      "Done with 396\n",
      "Done with 394\n",
      "Done with 393\n",
      "Done with 397\n",
      "Done with 395\n",
      "Done with 400\n",
      "Done with 398\n",
      "Done with 399\n",
      "Done with 401\n",
      "Done with 402\n",
      "Done with 403\n",
      "Done with 404\n",
      "Done with 405\n",
      "Done with 407\n",
      "Done with 406\n",
      "Done with 409\n",
      "Done with 408\n",
      "Done with 411\n",
      "Done with 410\n",
      "Done with 413\n",
      "Done with 416\n",
      "Done with 414\n",
      "Done with 412\n",
      "Done with 415\n",
      "Done with 418\n",
      "Done with 417\n",
      "Done with 419\n",
      "Done with 422\n",
      "Done with 421\n",
      "Done with 423\n",
      "Done with 424\n",
      "Done with 425\n",
      "Done with 420\n",
      "Done with 427\n",
      "Done with 429\n",
      "Done with 426\n",
      "Done with 428\n",
      "Done with 431\n",
      "Done with 430\n",
      "Done with 432\n",
      "Done with 434\n",
      "Done with 436\n",
      "Done with 435\n",
      "Done with 433\n",
      "Done with 437\n",
      "Done with 438\n",
      "Done with 440\n",
      "Done with 439\n",
      "Done with 441\n",
      "Done with 443\n",
      "Done with 442\n",
      "Done with 444\n",
      "Done with 445\n",
      "Done with 446\n",
      "Done with 448\n",
      "Done with 447\n",
      "Done with 450\n",
      "Done with 451\n",
      "Done with 453\n",
      "Done with 449\n",
      "Done with 452\n",
      "Done with 455\n",
      "Done with 454\n",
      "Done with 456\n",
      "Done with 457\n",
      "Done with 458\n",
      "Done with 459\n",
      "Done with 461\n",
      "Done with 464\n",
      "Done with 462\n",
      "Done with 463\n",
      "Done with 460\n",
      "Done with 465\n",
      "Done with 466\n",
      "Done with 467\n",
      "Done with 468\n",
      "Done with 469\n",
      "Done with 473\n",
      "Done with 471\n",
      "Done with 470\n",
      "Done with 472\n",
      "Done with 474\n",
      "Done with 475\n",
      "Done with 476\n",
      "Done with 479\n",
      "Done with 477\n",
      "Done with 478\n",
      "Done with 481\n",
      "Done with 482\n",
      "Done with 484\n",
      "Done with 480\n",
      "Done with 483\n",
      "Done with 486\n",
      "Done with 487\n",
      "Done with 485\n",
      "Done with 488\n",
      "Done with 489\n",
      "Done with 490\n",
      "Done with 493\n",
      "Done with 492\n",
      "Done with 491\n",
      "Done with 495\n",
      "Done with 494\n",
      "Done with 496\n",
      "Done with 498\n",
      "Done with 497\n",
      "Done with 499\n",
      "Done with 503\n",
      "Done with 500\n",
      "Done with 501\n",
      "Done with 502\n",
      "Done with 506\n",
      "Done with 507\n",
      "Done with 504\n",
      "Done with 505\n",
      "Done with 509\n",
      "Done with 510\n",
      "Done with 508\n",
      "Done with 511\n",
      "Done with 512\n",
      "Done with 515\n",
      "Done with 513\n",
      "Done with 516\n",
      "Done with 517\n",
      "Done with 518\n",
      "Done with 519\n",
      "Done with 514\n",
      "Done with 522\n",
      "Done with 520\n",
      "Done with 525\n",
      "Done with 521\n",
      "Done with 523\n",
      "Done with 528\n",
      "Done with 527\n",
      "Done with 526\n",
      "Done with 524\n",
      "Done with 531\n",
      "Done with 529\n",
      "Done with 533\n",
      "Done with 530\n",
      "Done with 534\n",
      "Done with 532\n",
      "Done with 535\n",
      "Done with 537\n",
      "Done with 536\n",
      "Done with 539\n",
      "Done with 538\n",
      "Done with 540\n",
      "Done with 541\n",
      "Done with 543\n",
      "Done with 544\n",
      "Done with 546\n",
      "Done with 547\n",
      "Done with 545\n",
      "Done with 548\n",
      "Done with 542\n",
      "Done with 550\n",
      "Done with 549\n",
      "Done with 552\n",
      "Done with 554\n",
      "Done with 551\n",
      "Done with 556\n",
      "Done with 557\n",
      "Done with 553\n",
      "Done with 559\n",
      "Done with 558\n",
      "Done with 561\n",
      "Done with 555\n",
      "Done with 564\n",
      "Done with 560\n",
      "Done with 563\n",
      "Done with 562\n",
      "Done with 565\n",
      "Done with 566\n",
      "Done with 568\n",
      "Done with 567\n",
      "Done with 570\n",
      "Done with 572\n",
      "Done with 571\n",
      "Done with 573\n",
      "Done with 574\n",
      "Done with 569\n",
      "Done with 575\n",
      "Done with 576\n",
      "Done with 578\n",
      "Done with 582\n",
      "Done with 580\n",
      "Done with 581\n",
      "Done with 579\n",
      "Done with 577\n",
      "Done with 584\n",
      "Done with 586\n",
      "Done with 588\n",
      "Done with 585\n",
      "Done with 583\n",
      "Done with 590\n",
      "Done with 587\n",
      "Done with 589\n",
      "Done with 591\n",
      "Done with 592\n",
      "Done with 594\n",
      "Done with 596\n",
      "Done with 593\n",
      "Done with 595\n",
      "Done with 598\n",
      "Done with 597\n",
      "Done with 602\n",
      "Done with 600\n",
      "Done with 604\n",
      "Done with 601\n",
      "Done with 603\n",
      "Done with 599\n",
      "Done with 607\n",
      "Done with 605\n",
      "Done with 611\n",
      "Done with 606\n",
      "Done with 609\n",
      "Done with 608\n",
      "Done with 613\n",
      "Done with 610\n",
      "Done with 612\n",
      "Done with 614\n",
      "Done with 615\n",
      "Done with 619\n",
      "Done with 617\n",
      "Done with 616\n",
      "Done with 620\n",
      "Done with 622\n",
      "Done with 618\n",
      "Done with 621\n",
      "Done with 623\n",
      "Done with 626\n",
      "Done with 628\n",
      "Done with 625\n",
      "Done with 627\n",
      "Done with 629\n",
      "Done with 624\n",
      "Done with 630\n",
      "Done with 632\n",
      "Done with 634\n",
      "Done with 633\n",
      "Done with 635\n",
      "Done with 637\n",
      "Done with 636\n",
      "Done with 631\n",
      "Done with 641\n",
      "Done with 639\n",
      "Done with 638\n",
      "Done with 640\n",
      "Done with 643\n",
      "Done with 645\n",
      "Done with 644\n",
      "Done with 642\n",
      "Done with 647\n",
      "Done with 648\n",
      "Done with 649\n",
      "Done with 646\n",
      "Done with 651\n",
      "Done with 654\n",
      "Done with 650\n",
      "Done with 656\n",
      "Done with 653\n",
      "Done with 657\n",
      "Done with 655\n",
      "Done with 659\n",
      "Done with 660\n",
      "Done with 661\n",
      "Done with 662\n",
      "Done with 663\n",
      "Done with 664\n",
      "Done with 665\n",
      "Done with 667\n",
      "Done with 666\n",
      "Done with 668\n",
      "Done with 669\n",
      "Done with 670\n",
      "Done with 672\n",
      "Done with 673\n",
      "Done with 671\n",
      "Done with 676\n",
      "Done with 652\n",
      "Done with 675\n",
      "Done with 674\n",
      "Done with 677\n",
      "Done with 678\n",
      "Done with 680\n",
      "Done with 679\n",
      "Done with 683\n",
      "Done with 658\n",
      "Done with 681\n",
      "Done with 682\n",
      "Done with 684\n",
      "Done with 689\n",
      "Done with 688\n",
      "Done with 685\n",
      "Done with 686\n",
      "Done with 687\n",
      "Done with 691\n",
      "Done with 692\n",
      "Done with 693\n",
      "Done with 690\n",
      "Done with 694\n",
      "Done with 697\n",
      "Done with 695\n",
      "Done with 696\n",
      "Done with 700\n",
      "Done with 698\n",
      "Done with 699\n",
      "Done with 701\n",
      "Done with 702\n",
      "Done with 703\n",
      "Done with 705\n",
      "Done with 704\n",
      "Done with 708\n",
      "Done with 706\n",
      "Done with 710\n",
      "Done with 709\n",
      "Done with 711\n",
      "Done with 712\n",
      "Done with 713\n",
      "Done with 707\n",
      "Done with 714\n",
      "Done with 715\n",
      "Done with 716\n",
      "Done with 717\n",
      "Done with 718\n",
      "Done with 720\n",
      "Done with 721\n",
      "Done with 723\n",
      "Done with 719\n",
      "Done with 724\n",
      "Done with 727\n",
      "Done with 725\n",
      "Done with 722\n",
      "Done with 726\n",
      "Done with 728\n",
      "Done with 730\n",
      "Done with 729\n",
      "Done with 732\n",
      "Done with 731\n",
      "Done with 734\n",
      "Done with 733\n",
      "Done with 736\n",
      "Done with 735\n",
      "Done with 737\n",
      "Done with 738\n",
      "Done with 740\n",
      "Done with 739\n",
      "Done with 741\n",
      "Done with 742\n",
      "Done with 743\n",
      "Done with 746\n",
      "Done with 744\n",
      "Done with 749\n",
      "Done with 747\n",
      "Done with 748\n",
      "Done with 751\n",
      "Done with 750\n",
      "Done with 745\n",
      "Done with 752\n",
      "Done with 755\n",
      "Done with 753\n",
      "Done with 758\n",
      "Done with 754\n",
      "Done with 757\n",
      "Done with 756\n"
     ]
    }
   ],
   "source": [
    "from langchain_core.pydantic_v1 import BaseModel, Field\n",
    "import concurrent.futures\n",
    "import json\n",
    "\n",
    "\n",
    "class Sentences(BaseModel):\n",
    "    sentences: List[str] = Field(\n",
    "        description=\"These are the paragraphs from an HR policy\"\n",
    "    )\n",
    "\n",
    "\n",
    "extraction_chain = llm_gpt.with_structured_output(Sentences)\n",
    "\n",
    "\n",
    "def get_propositions(text):\n",
    "    runnable_output = runnable.invoke({\"input\": text}).content\n",
    "    propositions = extraction_chain.invoke(runnable_output)\n",
    "    return propositions\n",
    "\n",
    "\n",
    "essay_propositions = []\n",
    "\n",
    "\n",
    "def process_paragraph(para):\n",
    "    \"\"\"Extracts propositions from a paragraph.\"\"\"\n",
    "    propositions = get_propositions(para.page_content)\n",
    "    return propositions.sentences\n",
    "\n",
    "chunk_propositions = {}\n",
    "with concurrent.futures.ThreadPoolExecutor(max_workers=5) as executor:\n",
    "    futures = {\n",
    "        executor.submit(process_paragraph, para): i for i, para in enumerate(chunked_documents_recursive)\n",
    "    }\n",
    "\n",
    "    for future in concurrent.futures.as_completed(futures):\n",
    "        i = futures[future]\n",
    "        try:\n",
    "            chunk_propositions[f\"chunk_{i}\"] = future.result()\n",
    "        except Exception as e:\n",
    "            print(f\"Error processing paragraph {i}: {e}\")\n",
    "        print(f\"Done with {i}\")"
   ]
  },
  {
   "cell_type": "code",
   "execution_count": 69,
   "metadata": {},
   "outputs": [],
   "source": [
    "from langchain_core.documents import Document\n",
    "\n",
    "chunks = []\n",
    "\n",
    "for k, v in chunk_propositions.items():\n",
    "    chunk = Document(page_content=\"\\n\".join(v))\n",
    "    chunks.append(chunk)"
   ]
  },
  {
   "cell_type": "code",
   "execution_count": 70,
   "metadata": {},
   "outputs": [],
   "source": [
    "vectordb_agentic_custom = create_or_load_vector_db(chunked_documents=chunks, persist_directory=\"./vector_store_agentic_custom\", load=False)"
   ]
  },
  {
   "cell_type": "markdown",
   "metadata": {},
   "source": [
    "# Creating a Retrieval & Generation"
   ]
  },
  {
   "cell_type": "markdown",
   "metadata": {},
   "source": [
    "For retrival and Generation we will be using Langchain. It invloves following steps\n",
    "\n",
    "1. Selecting the vector db and converting it into retriever. This will perform similarity operations based on the user query\n",
    "2. We have created a chain in such a way that it will also retrieve the documents and return it to us\n",
    "3. We will import the RAG prompt from HF Hub\n",
    "4. We will pass the question and get the response from the documents retrieved using the chain."
   ]
  },
  {
   "cell_type": "code",
   "execution_count": 7,
   "metadata": {},
   "outputs": [],
   "source": [
    "prompt = \"\"\"\n",
    "    You are an assistant for question-answering tasks. Use the following pieces of retrieved context to answer the question. \\\n",
    "    If you don't know the answer, just say that you don't know.\n",
    "    \\nQuestion: {question} \\nContext: {context}\n",
    "    Give answer in the below json format only. No deviations:\n",
    "    {{\n",
    "        \"answer\":str\n",
    "    }}\n",
    "\"\"\""
   ]
  },
  {
   "cell_type": "code",
   "execution_count": 9,
   "metadata": {},
   "outputs": [],
   "source": [
    "from langchain_core.runnables import RunnableParallel\n",
    "from langchain_core.runnables import RunnablePassthrough\n",
    "from langchain import hub\n",
    "from langchain_core.output_parsers import JsonOutputParser\n",
    "from pydantic import BaseModel, Field\n",
    "from langchain_core.prompts import PromptTemplate\n",
    "\n",
    "class AnswerStructure(BaseModel):\n",
    "    answer: str = Field(description=\"answer to the given question\")\n",
    "\n",
    "parser = JsonOutputParser(pydantic_object=AnswerStructure)\n",
    "    \n",
    "\n",
    "def format_docs(docs):\n",
    "    return \"\\n\\n\".join(doc.page_content for doc in docs)\n",
    "\n",
    "def get_llm_response(query, vectordb):\n",
    "    # convert vector db to retriever to perform similarity search\n",
    "    retriever = vectordb.as_retriever()\n",
    "\n",
    "    # pull the prompt from HF hub\n",
    "    prompt = \"\"\"\n",
    "    You are an assistant for question-answering tasks. Use the following pieces of retrieved context to answer the question. \\\n",
    "    If you don't know the answer, just say that you don't know. Give a detailed answer to the question by reading the context\n",
    "    \\nQuestion: {question} \\nContext: {context}\n",
    "    Give answer in the below json format only. No deviations:\n",
    "    {{\n",
    "        \"answer\":str\n",
    "    }}\n",
    "\"\"\"\n",
    "\n",
    "    SYSTEM_PROMPT = PromptTemplate(\n",
    "    input_variables=[\"context\", \"question\"], template=prompt\n",
    ")\n",
    "\n",
    "    # create a chain with prompt and llama 3.2 1B llm\n",
    "    rag_chain_from_docs = (\n",
    "            RunnablePassthrough.assign(context=(lambda x: format_docs(x[\"context\"])))\n",
    "            | SYSTEM_PROMPT\n",
    "            | llm\n",
    "            | parser\n",
    "        )\n",
    "\n",
    "    # pass the retriever and chain and get the response along with the retrieve documents\n",
    "    rag_chain_with_source = RunnableParallel(\n",
    "            {\"context\": retriever, \"question\": RunnablePassthrough()}\n",
    "            ).assign(answer=rag_chain_from_docs)\n",
    "    \n",
    "    result = rag_chain_with_source.invoke(query)\n",
    "    \n",
    "    return result[\"answer\"][\"answer\"], result[\"context\"]"
   ]
  },
  {
   "cell_type": "markdown",
   "metadata": {},
   "source": [
    "## Getting response to our Test Dataset"
   ]
  },
  {
   "cell_type": "markdown",
   "metadata": {},
   "source": [
    "We will create an iteration where it passed through each of our test data question and gets the answer based on our defined RAG"
   ]
  },
  {
   "cell_type": "code",
   "execution_count": 10,
   "metadata": {
    "scrolled": true
   },
   "outputs": [],
   "source": [
    "import concurrent.futures\n",
    "import tqdm\n",
    "\n",
    "def process_llm_response(k, v, vectordb):\n",
    "    \"\"\"Function to fetch LLM response in parallel.\"\"\"\n",
    "    answer, context = get_llm_response(v[\"question\"], vectordb)\n",
    "    return k, {\"question\": v[\"question\"], \"answer\": answer, \"context\": [s.page_content for s in context]}\n",
    "\n",
    "def get_response(cleaned_data, vectordb):\n",
    "    llm_response_data = {}\n",
    "    with concurrent.futures.ThreadPoolExecutor(max_workers=2) as executor:\n",
    "        futures = {executor.submit(process_llm_response, k, v, vectordb): k for k, v in cleaned_data.items()}\n",
    "        \n",
    "        for future in tqdm.tqdm(concurrent.futures.as_completed(futures), total=len(futures)):\n",
    "            k, result = future.result()\n",
    "            llm_response_data[k] = result\n",
    "        return llm_response_data"
   ]
  },
  {
   "cell_type": "markdown",
   "metadata": {},
   "source": [
    "# Evaluation"
   ]
  },
  {
   "cell_type": "markdown",
   "metadata": {},
   "source": [
    "We have in total of 100 questions in our dataset. But to make the evaluation faster (As we have around 13 experiments) we will take only 30 questions and perform evaluation on top of it"
   ]
  },
  {
   "cell_type": "code",
   "execution_count": 11,
   "metadata": {},
   "outputs": [],
   "source": [
    "# # Generate small subset of test data\n",
    "\n",
    "# with open(\"./utils/test_data.json\", \"r\") as file:\n",
    "#     temp = json.load(file)\n",
    "\n",
    "# all_keys = random.sample(list(temp.keys()), 30)\n",
    "# cleaned_data = {}\n",
    "# for key in all_keys:\n",
    "#     cleaned_data[key] = temp[key]\n",
    "\n",
    "# with open(\"test_data_30.json\", 'w') as file:\n",
    "#     json.dump(cleaned_data, file, indent=4)"
   ]
  },
  {
   "cell_type": "markdown",
   "metadata": {},
   "source": [
    "Now we will create an evaluator function. It takes the vectordb and test data, generates answer to the questions in the test data and then the experiment gets evaluated using RAGAS"
   ]
  },
  {
   "cell_type": "code",
   "execution_count": 12,
   "metadata": {},
   "outputs": [],
   "source": [
    "import pandas as pd\n",
    "from ragas import SingleTurnSample, EvaluationDataset\n",
    "from ragas import evaluate\n",
    "from ragas.run_config import RunConfig\n",
    "import warnings\n",
    "import random\n",
    "import time\n",
    "\n",
    "from ragas.metrics import LLMContextPrecisionWithReference, LLMContextRecall, ResponseRelevancy, Faithfulness\n",
    "\n",
    "warnings.filterwarnings('ignore')\n",
    "        \n",
    "def save_evaluator_results(result, name):\n",
    "    result.to_csv(f\"evaluation_{name}.csv\")\n",
    "\n",
    "def evaluator(name, vectordb, cleaned_data):\n",
    "    data_list = []\n",
    "    \n",
    "    # Get Response from the selected Vector DB\n",
    "    llm_response_data = get_response(cleaned_data, vectordb)\n",
    "\n",
    "    # Persist the response for later usage\n",
    "    with open(f\"llm_response_data_{name}.json\", \"w\") as file:\n",
    "        json.dump(llm_response_data, file, indent=4)\n",
    "\n",
    "    # Create an evaluation dataset\n",
    "    for k, v in llm_response_data.items():\n",
    "        row = SingleTurnSample(\n",
    "            user_input=v[\"question\"],\n",
    "            retrieved_contexts=v[\"context\"],\n",
    "            response=v[\"answer\"],\n",
    "            reference=cleaned_data[k][\"answer\"],\n",
    "            reference_contexts = [cleaned_data[k][\"answer\"]]\n",
    "        )\n",
    "    \n",
    "        data_list.append(row)\n",
    "    dataset = EvaluationDataset(samples=data_list)\n",
    "    \n",
    "\n",
    "    # To make the evaluation faster, we will go with two metrics at a time\n",
    "    result_1 = evaluate(dataset, llm=llm_gpt, embeddings=model_embeddings, run_config=RunConfig(max_workers=10, max_retries=20, timeout=180), \n",
    "                      metrics=[LLMContextPrecisionWithReference(), LLMContextRecall()]).to_pandas()\n",
    "\n",
    "    # Adding a sleep timer to avoid rate limit or token limit error\n",
    "    time.sleep(30)\n",
    "    \n",
    "    result_2 = evaluate(dataset, llm=llm_gpt, embeddings=model_embeddings, run_config=RunConfig(max_workers=10, max_retries=20, timeout=180), \n",
    "                      metrics=[ResponseRelevancy(), Faithfulness()]).to_pandas()\n",
    "\n",
    "    # Merge all the metrics\n",
    "    result = pd.merge(result_1, result_2[['user_input', 'answer_relevancy', 'faithfulness']], on='user_input')\n",
    "\n",
    "    # Persist the metrics result for the experiment\n",
    "    save_evaluator_results(result, name)\n",
    "    \n",
    "    return result"
   ]
  },
  {
   "cell_type": "markdown",
   "metadata": {},
   "source": [
    "## Experiments"
   ]
  },
  {
   "cell_type": "markdown",
   "metadata": {},
   "source": [
    "We will start our experimentations based on all the chunkings we have done"
   ]
  },
  {
   "cell_type": "markdown",
   "metadata": {},
   "source": [
    "### Load all vector DBs"
   ]
  },
  {
   "cell_type": "code",
   "execution_count": 13,
   "metadata": {},
   "outputs": [],
   "source": [
    "all_experiments = [\n",
    "# \"recursive_4096\",\n",
    "# \"recursive_2048\",\n",
    "# \"recursive_512\",\n",
    "# \"recursive_256\",\n",
    "# \"recursive_1024\",\n",
    "# \"fixed\",\n",
    "# \"semantic\",\n",
    "# \"page\",\n",
    "# \"agentic\",\n",
    "# \"agentic_custom\",\n",
    "\"semantic_percentile\",\n",
    "\"semantic_iq\",\n",
    "\"semantic_sd\",\n",
    "\"semantic_gradient\"]\n",
    "\n",
    "all_vector_dbs = {}\n",
    "results = {}\n",
    "\n",
    "for e in all_experiments:\n",
    "    all_vector_dbs[e] = create_or_load_vector_db(chunked_documents=\"\", persist_directory=f\"./vector_store_{e}\", load=True)"
   ]
  },
  {
   "cell_type": "markdown",
   "metadata": {},
   "source": [
    "### Evaluate All results"
   ]
  },
  {
   "cell_type": "code",
   "execution_count": 14,
   "metadata": {},
   "outputs": [
    {
     "name": "stderr",
     "output_type": "stream",
     "text": [
      "100%|█████████████████████████████████████████████████████████████████████████████████████████████████████████████████████████████████| 30/30 [00:27<00:00,  1.09it/s]\n",
      "Evaluating: 100%|█████████████████████████████████████████████████████████████████████████████████████████████████████████████████████| 60/60 [00:28<00:00,  2.10it/s]\n",
      "Evaluating: 100%|█████████████████████████████████████████████████████████████████████████████████████████████████████████████████████| 60/60 [00:23<00:00,  2.55it/s]\n"
     ]
    },
    {
     "name": "stdout",
     "output_type": "stream",
     "text": [
      "experiment semantic_percentile completed\n"
     ]
    },
    {
     "name": "stderr",
     "output_type": "stream",
     "text": [
      "100%|█████████████████████████████████████████████████████████████████████████████████████████████████████████████████████████████████| 30/30 [00:15<00:00,  1.93it/s]\n",
      "Evaluating: 100%|█████████████████████████████████████████████████████████████████████████████████████████████████████████████████████| 60/60 [00:29<00:00,  2.07it/s]\n",
      "Evaluating: 100%|█████████████████████████████████████████████████████████████████████████████████████████████████████████████████████| 60/60 [00:48<00:00,  1.25it/s]\n"
     ]
    },
    {
     "name": "stdout",
     "output_type": "stream",
     "text": [
      "experiment semantic_iq completed\n"
     ]
    },
    {
     "name": "stderr",
     "output_type": "stream",
     "text": [
      "100%|█████████████████████████████████████████████████████████████████████████████████████████████████████████████████████████████████| 30/30 [00:13<00:00,  2.27it/s]\n",
      "Evaluating: 100%|█████████████████████████████████████████████████████████████████████████████████████████████████████████████████████| 60/60 [00:26<00:00,  2.22it/s]\n",
      "Evaluating: 100%|█████████████████████████████████████████████████████████████████████████████████████████████████████████████████████| 60/60 [00:32<00:00,  1.84it/s]\n"
     ]
    },
    {
     "name": "stdout",
     "output_type": "stream",
     "text": [
      "experiment semantic_sd completed\n"
     ]
    },
    {
     "name": "stderr",
     "output_type": "stream",
     "text": [
      "100%|█████████████████████████████████████████████████████████████████████████████████████████████████████████████████████████████████| 30/30 [00:16<00:00,  1.87it/s]\n",
      "Evaluating: 100%|█████████████████████████████████████████████████████████████████████████████████████████████████████████████████████| 60/60 [00:38<00:00,  1.57it/s]\n",
      "Evaluating: 100%|█████████████████████████████████████████████████████████████████████████████████████████████████████████████████████| 60/60 [00:25<00:00,  2.38it/s]\n"
     ]
    },
    {
     "name": "stdout",
     "output_type": "stream",
     "text": [
      "experiment semantic_gradient completed\n"
     ]
    }
   ],
   "source": [
    "import time\n",
    "import json\n",
    "\n",
    "with open(\"test_data_30.json\", \"r\") as file:\n",
    "    cleaned_data = json.load(file)\n",
    "\n",
    "\n",
    "for experiment_name, experiment_db in all_vector_dbs.items():\n",
    "    results[experiment_name] = evaluator(experiment_name, experiment_db, cleaned_data)\n",
    "    time.sleep(5)\n",
    "    print(f\"experiment {experiment_name} completed\")"
   ]
  },
  {
   "cell_type": "code",
   "execution_count": 15,
   "metadata": {},
   "outputs": [
    {
     "data": {
      "text/plain": [
       "dict_keys(['semantic_percentile', 'semantic_iq', 'semantic_sd', 'semantic_gradient'])"
      ]
     },
     "execution_count": 15,
     "metadata": {},
     "output_type": "execute_result"
    }
   ],
   "source": [
    "results.keys()"
   ]
  },
  {
   "cell_type": "markdown",
   "metadata": {},
   "source": [
    "## Benchmark Setup"
   ]
  },
  {
   "cell_type": "code",
   "execution_count": 19,
   "metadata": {},
   "outputs": [
    {
     "ename": "TypeError",
     "evalue": "Embeddings.create() got an unexpected keyword argument 'device'",
     "output_type": "error",
     "traceback": [
      "\u001b[0;31m---------------------------------------------------------------------------\u001b[0m",
      "\u001b[0;31mTypeError\u001b[0m                                 Traceback (most recent call last)",
      "Cell \u001b[0;32mIn[19], line 7\u001b[0m\n\u001b[1;32m      5\u001b[0m \u001b[38;5;28;01mif\u001b[39;00m split:\n\u001b[1;32m      6\u001b[0m     text_splitter \u001b[38;5;241m=\u001b[39m SemanticChunker(model_embeddings_gpt)\n\u001b[0;32m----> 7\u001b[0m     chunked_documents_semantic  \u001b[38;5;241m=\u001b[39m \u001b[43mtext_splitter\u001b[49m\u001b[38;5;241;43m.\u001b[39;49m\u001b[43msplit_documents\u001b[49m\u001b[43m(\u001b[49m\u001b[43mdocuments\u001b[49m\u001b[43m)\u001b[49m\n\u001b[1;32m      8\u001b[0m     vectordb_semantic \u001b[38;5;241m=\u001b[39m create_or_load_vector_db(chunked_documents\u001b[38;5;241m=\u001b[39mchunked_documents_semantic, persist_directory\u001b[38;5;241m=\u001b[39m\u001b[38;5;124m\"\u001b[39m\u001b[38;5;124m./vector_store_semantic_benchmark\u001b[39m\u001b[38;5;124m\"\u001b[39m, load\u001b[38;5;241m=\u001b[39m\u001b[38;5;28;01mFalse\u001b[39;00m, model\u001b[38;5;241m=\u001b[39m\u001b[38;5;124m\"\u001b[39m\u001b[38;5;124mopenai\u001b[39m\u001b[38;5;124m\"\u001b[39m)\n\u001b[1;32m      9\u001b[0m \u001b[38;5;28;01melse\u001b[39;00m:\n",
      "File \u001b[0;32m/opt/conda/envs/rag/lib/python3.11/site-packages/langchain_experimental/text_splitter.py:295\u001b[0m, in \u001b[0;36mSemanticChunker.split_documents\u001b[0;34m(self, documents)\u001b[0m\n\u001b[1;32m    293\u001b[0m     texts\u001b[38;5;241m.\u001b[39mappend(doc\u001b[38;5;241m.\u001b[39mpage_content)\n\u001b[1;32m    294\u001b[0m     metadatas\u001b[38;5;241m.\u001b[39mappend(doc\u001b[38;5;241m.\u001b[39mmetadata)\n\u001b[0;32m--> 295\u001b[0m \u001b[38;5;28;01mreturn\u001b[39;00m \u001b[38;5;28;43mself\u001b[39;49m\u001b[38;5;241;43m.\u001b[39;49m\u001b[43mcreate_documents\u001b[49m\u001b[43m(\u001b[49m\u001b[43mtexts\u001b[49m\u001b[43m,\u001b[49m\u001b[43m \u001b[49m\u001b[43mmetadatas\u001b[49m\u001b[38;5;241;43m=\u001b[39;49m\u001b[43mmetadatas\u001b[49m\u001b[43m)\u001b[49m\n",
      "File \u001b[0;32m/opt/conda/envs/rag/lib/python3.11/site-packages/langchain_experimental/text_splitter.py:280\u001b[0m, in \u001b[0;36mSemanticChunker.create_documents\u001b[0;34m(self, texts, metadatas)\u001b[0m\n\u001b[1;32m    278\u001b[0m \u001b[38;5;28;01mfor\u001b[39;00m i, text \u001b[38;5;129;01min\u001b[39;00m \u001b[38;5;28menumerate\u001b[39m(texts):\n\u001b[1;32m    279\u001b[0m     start_index \u001b[38;5;241m=\u001b[39m \u001b[38;5;241m0\u001b[39m\n\u001b[0;32m--> 280\u001b[0m     \u001b[38;5;28;01mfor\u001b[39;00m chunk \u001b[38;5;129;01min\u001b[39;00m \u001b[38;5;28;43mself\u001b[39;49m\u001b[38;5;241;43m.\u001b[39;49m\u001b[43msplit_text\u001b[49m\u001b[43m(\u001b[49m\u001b[43mtext\u001b[49m\u001b[43m)\u001b[49m:\n\u001b[1;32m    281\u001b[0m         metadata \u001b[38;5;241m=\u001b[39m copy\u001b[38;5;241m.\u001b[39mdeepcopy(_metadatas[i])\n\u001b[1;32m    282\u001b[0m         \u001b[38;5;28;01mif\u001b[39;00m \u001b[38;5;28mself\u001b[39m\u001b[38;5;241m.\u001b[39m_add_start_index:\n",
      "File \u001b[0;32m/opt/conda/envs/rag/lib/python3.11/site-packages/langchain_experimental/text_splitter.py:228\u001b[0m, in \u001b[0;36mSemanticChunker.split_text\u001b[0;34m(self, text)\u001b[0m\n\u001b[1;32m    223\u001b[0m \u001b[38;5;28;01mif\u001b[39;00m (\n\u001b[1;32m    224\u001b[0m     \u001b[38;5;28mself\u001b[39m\u001b[38;5;241m.\u001b[39mbreakpoint_threshold_type \u001b[38;5;241m==\u001b[39m \u001b[38;5;124m\"\u001b[39m\u001b[38;5;124mgradient\u001b[39m\u001b[38;5;124m\"\u001b[39m\n\u001b[1;32m    225\u001b[0m     \u001b[38;5;129;01mand\u001b[39;00m \u001b[38;5;28mlen\u001b[39m(single_sentences_list) \u001b[38;5;241m==\u001b[39m \u001b[38;5;241m2\u001b[39m\n\u001b[1;32m    226\u001b[0m ):\n\u001b[1;32m    227\u001b[0m     \u001b[38;5;28;01mreturn\u001b[39;00m single_sentences_list\n\u001b[0;32m--> 228\u001b[0m distances, sentences \u001b[38;5;241m=\u001b[39m \u001b[38;5;28;43mself\u001b[39;49m\u001b[38;5;241;43m.\u001b[39;49m\u001b[43m_calculate_sentence_distances\u001b[49m\u001b[43m(\u001b[49m\u001b[43msingle_sentences_list\u001b[49m\u001b[43m)\u001b[49m\n\u001b[1;32m    229\u001b[0m \u001b[38;5;28;01mif\u001b[39;00m \u001b[38;5;28mself\u001b[39m\u001b[38;5;241m.\u001b[39mnumber_of_chunks \u001b[38;5;129;01mis\u001b[39;00m \u001b[38;5;129;01mnot\u001b[39;00m \u001b[38;5;28;01mNone\u001b[39;00m:\n\u001b[1;32m    230\u001b[0m     breakpoint_distance_threshold \u001b[38;5;241m=\u001b[39m \u001b[38;5;28mself\u001b[39m\u001b[38;5;241m.\u001b[39m_threshold_from_clusters(distances)\n",
      "File \u001b[0;32m/opt/conda/envs/rag/lib/python3.11/site-packages/langchain_experimental/text_splitter.py:203\u001b[0m, in \u001b[0;36mSemanticChunker._calculate_sentence_distances\u001b[0;34m(self, single_sentences_list)\u001b[0m\n\u001b[1;32m    199\u001b[0m _sentences \u001b[38;5;241m=\u001b[39m [\n\u001b[1;32m    200\u001b[0m     {\u001b[38;5;124m\"\u001b[39m\u001b[38;5;124msentence\u001b[39m\u001b[38;5;124m\"\u001b[39m: x, \u001b[38;5;124m\"\u001b[39m\u001b[38;5;124mindex\u001b[39m\u001b[38;5;124m\"\u001b[39m: i} \u001b[38;5;28;01mfor\u001b[39;00m i, x \u001b[38;5;129;01min\u001b[39;00m \u001b[38;5;28menumerate\u001b[39m(single_sentences_list)\n\u001b[1;32m    201\u001b[0m ]\n\u001b[1;32m    202\u001b[0m sentences \u001b[38;5;241m=\u001b[39m combine_sentences(_sentences, \u001b[38;5;28mself\u001b[39m\u001b[38;5;241m.\u001b[39mbuffer_size)\n\u001b[0;32m--> 203\u001b[0m embeddings \u001b[38;5;241m=\u001b[39m \u001b[38;5;28;43mself\u001b[39;49m\u001b[38;5;241;43m.\u001b[39;49m\u001b[43membeddings\u001b[49m\u001b[38;5;241;43m.\u001b[39;49m\u001b[43membed_documents\u001b[49m\u001b[43m(\u001b[49m\n\u001b[1;32m    204\u001b[0m \u001b[43m    \u001b[49m\u001b[43m[\u001b[49m\u001b[43mx\u001b[49m\u001b[43m[\u001b[49m\u001b[38;5;124;43m\"\u001b[39;49m\u001b[38;5;124;43mcombined_sentence\u001b[39;49m\u001b[38;5;124;43m\"\u001b[39;49m\u001b[43m]\u001b[49m\u001b[43m \u001b[49m\u001b[38;5;28;43;01mfor\u001b[39;49;00m\u001b[43m \u001b[49m\u001b[43mx\u001b[49m\u001b[43m \u001b[49m\u001b[38;5;129;43;01min\u001b[39;49;00m\u001b[43m \u001b[49m\u001b[43msentences\u001b[49m\u001b[43m]\u001b[49m\n\u001b[1;32m    205\u001b[0m \u001b[43m\u001b[49m\u001b[43m)\u001b[49m\n\u001b[1;32m    206\u001b[0m \u001b[38;5;28;01mfor\u001b[39;00m i, sentence \u001b[38;5;129;01min\u001b[39;00m \u001b[38;5;28menumerate\u001b[39m(sentences):\n\u001b[1;32m    207\u001b[0m     sentence[\u001b[38;5;124m\"\u001b[39m\u001b[38;5;124mcombined_sentence_embedding\u001b[39m\u001b[38;5;124m\"\u001b[39m] \u001b[38;5;241m=\u001b[39m embeddings[i]\n",
      "File \u001b[0;32m/opt/conda/envs/rag/lib/python3.11/site-packages/langchain_community/embeddings/openai.py:671\u001b[0m, in \u001b[0;36mOpenAIEmbeddings.embed_documents\u001b[0;34m(self, texts, chunk_size)\u001b[0m\n\u001b[1;32m    668\u001b[0m \u001b[38;5;66;03m# NOTE: to keep things simple, we assume the list may contain texts longer\u001b[39;00m\n\u001b[1;32m    669\u001b[0m \u001b[38;5;66;03m#       than the maximum context and use length-safe embedding function.\u001b[39;00m\n\u001b[1;32m    670\u001b[0m engine \u001b[38;5;241m=\u001b[39m cast(\u001b[38;5;28mstr\u001b[39m, \u001b[38;5;28mself\u001b[39m\u001b[38;5;241m.\u001b[39mdeployment)\n\u001b[0;32m--> 671\u001b[0m \u001b[38;5;28;01mreturn\u001b[39;00m \u001b[38;5;28;43mself\u001b[39;49m\u001b[38;5;241;43m.\u001b[39;49m\u001b[43m_get_len_safe_embeddings\u001b[49m\u001b[43m(\u001b[49m\u001b[43mtexts\u001b[49m\u001b[43m,\u001b[49m\u001b[43m \u001b[49m\u001b[43mengine\u001b[49m\u001b[38;5;241;43m=\u001b[39;49m\u001b[43mengine\u001b[49m\u001b[43m)\u001b[49m\n",
      "File \u001b[0;32m/opt/conda/envs/rag/lib/python3.11/site-packages/langchain_community/embeddings/openai.py:497\u001b[0m, in \u001b[0;36mOpenAIEmbeddings._get_len_safe_embeddings\u001b[0;34m(self, texts, engine, chunk_size)\u001b[0m\n\u001b[1;32m    495\u001b[0m batched_embeddings: List[List[\u001b[38;5;28mfloat\u001b[39m]] \u001b[38;5;241m=\u001b[39m []\n\u001b[1;32m    496\u001b[0m \u001b[38;5;28;01mfor\u001b[39;00m i \u001b[38;5;129;01min\u001b[39;00m _iter:\n\u001b[0;32m--> 497\u001b[0m     response \u001b[38;5;241m=\u001b[39m \u001b[43membed_with_retry\u001b[49m\u001b[43m(\u001b[49m\n\u001b[1;32m    498\u001b[0m \u001b[43m        \u001b[49m\u001b[38;5;28;43mself\u001b[39;49m\u001b[43m,\u001b[49m\n\u001b[1;32m    499\u001b[0m \u001b[43m        \u001b[49m\u001b[38;5;28;43minput\u001b[39;49m\u001b[38;5;241;43m=\u001b[39;49m\u001b[43mtokens\u001b[49m\u001b[43m[\u001b[49m\u001b[43mi\u001b[49m\u001b[43m \u001b[49m\u001b[43m:\u001b[49m\u001b[43m \u001b[49m\u001b[43mi\u001b[49m\u001b[43m \u001b[49m\u001b[38;5;241;43m+\u001b[39;49m\u001b[43m \u001b[49m\u001b[43m_chunk_size\u001b[49m\u001b[43m]\u001b[49m\u001b[43m,\u001b[49m\n\u001b[1;32m    500\u001b[0m \u001b[43m        \u001b[49m\u001b[38;5;241;43m*\u001b[39;49m\u001b[38;5;241;43m*\u001b[39;49m\u001b[38;5;28;43mself\u001b[39;49m\u001b[38;5;241;43m.\u001b[39;49m\u001b[43m_invocation_params\u001b[49m\u001b[43m,\u001b[49m\n\u001b[1;32m    501\u001b[0m \u001b[43m    \u001b[49m\u001b[43m)\u001b[49m\n\u001b[1;32m    502\u001b[0m     \u001b[38;5;28;01mif\u001b[39;00m \u001b[38;5;129;01mnot\u001b[39;00m \u001b[38;5;28misinstance\u001b[39m(response, \u001b[38;5;28mdict\u001b[39m):\n\u001b[1;32m    503\u001b[0m         response \u001b[38;5;241m=\u001b[39m response\u001b[38;5;241m.\u001b[39mdict()\n",
      "File \u001b[0;32m/opt/conda/envs/rag/lib/python3.11/site-packages/langchain_community/embeddings/openai.py:120\u001b[0m, in \u001b[0;36membed_with_retry\u001b[0;34m(embeddings, **kwargs)\u001b[0m\n\u001b[1;32m    118\u001b[0m \u001b[38;5;250m\u001b[39m\u001b[38;5;124;03m\"\"\"Use tenacity to retry the embedding call.\"\"\"\u001b[39;00m\n\u001b[1;32m    119\u001b[0m \u001b[38;5;28;01mif\u001b[39;00m is_openai_v1():\n\u001b[0;32m--> 120\u001b[0m     \u001b[38;5;28;01mreturn\u001b[39;00m \u001b[43membeddings\u001b[49m\u001b[38;5;241;43m.\u001b[39;49m\u001b[43mclient\u001b[49m\u001b[38;5;241;43m.\u001b[39;49m\u001b[43mcreate\u001b[49m\u001b[43m(\u001b[49m\u001b[38;5;241;43m*\u001b[39;49m\u001b[38;5;241;43m*\u001b[39;49m\u001b[43mkwargs\u001b[49m\u001b[43m)\u001b[49m\n\u001b[1;32m    121\u001b[0m retry_decorator \u001b[38;5;241m=\u001b[39m _create_retry_decorator(embeddings)\n\u001b[1;32m    123\u001b[0m \u001b[38;5;129m@retry_decorator\u001b[39m\n\u001b[1;32m    124\u001b[0m \u001b[38;5;28;01mdef\u001b[39;00m\u001b[38;5;250m \u001b[39m\u001b[38;5;21m_embed_with_retry\u001b[39m(\u001b[38;5;241m*\u001b[39m\u001b[38;5;241m*\u001b[39mkwargs: Any) \u001b[38;5;241m-\u001b[39m\u001b[38;5;241m>\u001b[39m Any:\n",
      "\u001b[0;31mTypeError\u001b[0m: Embeddings.create() got an unexpected keyword argument 'device'"
     ]
    }
   ],
   "source": [
    "from langchain_experimental.text_splitter import SemanticChunker\n",
    "\n",
    "split = True\n",
    "\n",
    "if split:\n",
    "    text_splitter = SemanticChunker(model_embeddings_gpt)\n",
    "    chunked_documents_semantic  = text_splitter.split_documents(documents)\n",
    "    vectordb_semantic = create_or_load_vector_db(chunked_documents=chunked_documents_semantic, persist_directory=\"./vector_store_semantic_benchmark\", load=False, model=\"openai\")\n",
    "else:\n",
    "    vectordb_semantic = create_or_load_vector_db(chunked_documents=\"\", persist_directory=\"./vector_store_semantic_benchmark\", load=True, model=\"openai\")"
   ]
  },
  {
   "cell_type": "code",
   "execution_count": 23,
   "metadata": {},
   "outputs": [
    {
     "name": "stderr",
     "output_type": "stream",
     "text": [
      "100%|██████████████████████████████████████████████████████████████████████████████████████████████████████████████████████████████████████████████████████████████████████████████████████████| 30/30 [00:09<00:00,  3.16it/s]\n",
      "Evaluating: 100%|██████████████████████████████████████████████████████████████████████████████████████████████████████████████████████████████████████████████████████████████████████████████| 60/60 [00:25<00:00,  2.38it/s]\n",
      "Evaluating: 100%|██████████████████████████████████████████████████████████████████████████████████████████████████████████████████████████████████████████████████████████████████████████████| 60/60 [00:24<00:00,  2.42it/s]\n"
     ]
    }
   ],
   "source": [
    "import time\n",
    "import json\n",
    "\n",
    "with open(\"test_data_30.json\", \"r\") as file:\n",
    "    cleaned_data = json.load(file)\n",
    "\n",
    "results = {}\n",
    "vector_store_semantic_benchmark = create_or_load_vector_db(chunked_documents=\"\", persist_directory=\"./vector_store_semantic_benchmark\", load=True, model=\"openai\")\n",
    "results[\"semantic_benchmark\"] = evaluator(\"semantic_benchmark\", vectordb_semantic, cleaned_data)"
   ]
  },
  {
   "cell_type": "code",
   "execution_count": 16,
   "metadata": {},
   "outputs": [],
   "source": [
    "all_experiments = [\"recursive_4096\",\n",
    "\"recursive_2048\",\n",
    "\"recursive_512\",\n",
    "\"recursive_256\",\n",
    "\"recursive_1024\",\n",
    "\"fixed\",\n",
    "\"semantic\",\n",
    "\"page\",\n",
    "\"agentic\",\n",
    "\"agentic_custom\",\n",
    "\"semantic_percentile\",\n",
    "\"semantic_iq\",\n",
    "\"semantic_sd\",\n",
    "\"semantic_gradient\",\n",
    "\"semantic_benchmark\"]\n"
   ]
  },
  {
   "cell_type": "code",
   "execution_count": 17,
   "metadata": {},
   "outputs": [],
   "source": [
    "import pandas as pd\n",
    "results = {}\n",
    "for e in all_experiments:\n",
    "    results[e] = pd.read_csv(f\"evaluation_{e}.csv\").head()"
   ]
  },
  {
   "cell_type": "markdown",
   "metadata": {},
   "source": [
    "# Publishing Results to WandB"
   ]
  },
  {
   "cell_type": "markdown",
   "metadata": {},
   "source": [
    "We will create a public dashboard where the results of all our experimentations will be stored. For this we select WandB (Weights and Biases) Interface"
   ]
  },
  {
   "cell_type": "code",
   "execution_count": 72,
   "metadata": {},
   "outputs": [
    {
     "data": {
      "text/html": [
       "Tracking run with wandb version 0.19.6"
      ],
      "text/plain": [
       "<IPython.core.display.HTML object>"
      ]
     },
     "metadata": {},
     "output_type": "display_data"
    },
    {
     "data": {
      "text/html": [
       "Run data is saved locally in <code>/home/ec2-user/llm101/backend/rag_advanced/wandb/run-20250217_093523-p7b4gvrh</code>"
      ],
      "text/plain": [
       "<IPython.core.display.HTML object>"
      ]
     },
     "metadata": {},
     "output_type": "display_data"
    },
    {
     "data": {
      "text/html": [
       "Syncing run <strong><a href='https://wandb.ai/himanshuit3036-evernorth/Advanced%20RAG%20Experiments/runs/p7b4gvrh' target=\"_blank\">Detailed Chunking Experiments</a></strong> to <a href='https://wandb.ai/himanshuit3036-evernorth/Advanced%20RAG%20Experiments' target=\"_blank\">Weights & Biases</a> (<a href='https://wandb.me/developer-guide' target=\"_blank\">docs</a>)<br>"
      ],
      "text/plain": [
       "<IPython.core.display.HTML object>"
      ]
     },
     "metadata": {},
     "output_type": "display_data"
    },
    {
     "data": {
      "text/html": [
       " View project at <a href='https://wandb.ai/himanshuit3036-evernorth/Advanced%20RAG%20Experiments' target=\"_blank\">https://wandb.ai/himanshuit3036-evernorth/Advanced%20RAG%20Experiments</a>"
      ],
      "text/plain": [
       "<IPython.core.display.HTML object>"
      ]
     },
     "metadata": {},
     "output_type": "display_data"
    },
    {
     "data": {
      "text/html": [
       " View run at <a href='https://wandb.ai/himanshuit3036-evernorth/Advanced%20RAG%20Experiments/runs/p7b4gvrh' target=\"_blank\">https://wandb.ai/himanshuit3036-evernorth/Advanced%20RAG%20Experiments/runs/p7b4gvrh</a>"
      ],
      "text/plain": [
       "<IPython.core.display.HTML object>"
      ]
     },
     "metadata": {},
     "output_type": "display_data"
    },
    {
     "data": {
      "text/html": [],
      "text/plain": [
       "<IPython.core.display.HTML object>"
      ]
     },
     "metadata": {},
     "output_type": "display_data"
    },
    {
     "data": {
      "text/html": [
       " View run <strong style=\"color:#cdcd00\">Detailed Chunking Experiments</strong> at: <a href='https://wandb.ai/himanshuit3036-evernorth/Advanced%20RAG%20Experiments/runs/p7b4gvrh' target=\"_blank\">https://wandb.ai/himanshuit3036-evernorth/Advanced%20RAG%20Experiments/runs/p7b4gvrh</a><br> View project at: <a href='https://wandb.ai/himanshuit3036-evernorth/Advanced%20RAG%20Experiments' target=\"_blank\">https://wandb.ai/himanshuit3036-evernorth/Advanced%20RAG%20Experiments</a><br>Synced 5 W&B file(s), 4 media file(s), 8 artifact file(s) and 0 other file(s)"
      ],
      "text/plain": [
       "<IPython.core.display.HTML object>"
      ]
     },
     "metadata": {},
     "output_type": "display_data"
    },
    {
     "data": {
      "text/html": [
       "Find logs at: <code>./wandb/run-20250217_093523-p7b4gvrh/logs</code>"
      ],
      "text/plain": [
       "<IPython.core.display.HTML object>"
      ]
     },
     "metadata": {},
     "output_type": "display_data"
    }
   ],
   "source": [
    "import wandb\n",
    "\n",
    "wandb.init(project=\"Advanced RAG Experiments\", name=\"Detailed Chunking Experiments\")\n",
    "\n",
    "metrics = [\"answer_relevancy\", \"context_precision\", \"faithfulness\", \"context_recall\"]\n",
    "for m in metrics:\n",
    "    labels = ['Fixed', 'Recursive', 'Semantic', 'Agentic', \"Page\"]\n",
    "    values = [\n",
    "        np.mean(result_fixed[m]),\n",
    "        np.mean(result_recursive[m]),\n",
    "        np.mean(result_semantic[m]),\n",
    "        np.mean(result_agentic[m]),\n",
    "        np.mean(result_page[m])\n",
    "    ]\n",
    "    data = [[label,val] for (label,val) in zip(labels,values)]\n",
    "    \n",
    "    table = wandb.Table(data=data, columns = [\"Chunking Type\", m])\n",
    "    \n",
    "    wandb.log({f\"{m} Evaluation\": wandb.plot.bar(table,\"Chunking Type\", m, f\"{m} Evaluation\" )})\n",
    "\n",
    "wandb.finish()"
   ]
  },
  {
   "cell_type": "markdown",
   "metadata": {},
   "source": [
    "# Publishing Results Locally"
   ]
  },
  {
   "cell_type": "markdown",
   "metadata": {},
   "source": [
    "We can visualize the results locally as well using matplotlib library"
   ]
  },
  {
   "cell_type": "code",
   "execution_count": 18,
   "metadata": {},
   "outputs": [
    {
     "data": {
      "image/png": "[encoded data removed]",
      "text/plain": [
       "<Figure size 2000x1600 with 4 Axes>"
      ]
     },
     "metadata": {},
     "output_type": "display_data"
    }
   ],
   "source": [
    "import matplotlib.pyplot as plt\n",
    "import numpy as np\n",
    "\n",
    "# Sample data\n",
    "# categories = ['Fixed', 'Recursive', 'Semantic', 'Agentic', \"Page\"]\n",
    "\n",
    "categories = [\"Recursive 4096\", \"Recursive 2048\", \"Recursive 1024\", \"Recursive 256\", \"Recursive 512\", \"Semantic Default\", \"Semantic Percentile\", \n",
    "              \"Semantic SD\", \"Semantic ID\", \"Semantic Gradient\", \"Page\", \"Agentic\", \"Agentic Custom\", \"Fixed\", \"Benchmark\"]\n",
    "\n",
    "\n",
    "metrics = [\"answer_relevancy\", \"llm_context_precision_with_reference\", \"faithfulness\", \"context_recall\"]\n",
    "\n",
    "values = []\n",
    "for m in metrics:\n",
    "    values.append([\n",
    "    np.mean(np.nan_to_num(results[\"recursive_4096\"][m], nan=0)),\n",
    "    np.mean(np.nan_to_num(results[\"recursive_2048\"][m], nan=0)),\n",
    "    np.mean(np.nan_to_num(results[\"recursive_1024\"][m], nan=0)),\n",
    "    np.mean(np.nan_to_num(results[\"recursive_256\"][m], nan=0)),\n",
    "    np.mean(np.nan_to_num(results[\"recursive_512\"][m], nan=0)),\n",
    "    np.mean(np.nan_to_num(results[\"semantic\"][m], nan=0)),\n",
    "    np.mean(np.nan_to_num(results[\"semantic_percentile\"][m], nan=0)),\n",
    "    np.mean(np.nan_to_num(results[\"semantic_sd\"][m], nan=0)),\n",
    "    np.mean(np.nan_to_num(results[\"semantic_iq\"][m], nan=0)),\n",
    "    np.mean(np.nan_to_num(results[\"semantic_gradient\"][m], nan=0)),\n",
    "    np.mean(np.nan_to_num(results[\"page\"][m], nan=0)),\n",
    "    np.mean(np.nan_to_num(results[\"agentic\"][m], nan=0)),\n",
    "    np.mean(np.nan_to_num(results[\"agentic_custom\"][m], nan=0)),\n",
    "    np.mean(np.nan_to_num(results[\"fixed\"][m], nan=0)),\n",
    "    np.mean(np.nan_to_num(results[\"semantic_benchmark\"][m], nan=0))\n",
    "])\n",
    "\n",
    "# Create a 2x2 grid of subplots\n",
    "fig, axs = plt.subplots(4,1, figsize=(20, 16))\n",
    "\n",
    "# Titles for each subplot\n",
    "titles = ['Plot 1', 'Plot 2', 'Plot 3', 'Plot 4']\n",
    "\n",
    "# Iterate over each subplot and create a bar plot\n",
    "for i, ax in enumerate(axs.flat):\n",
    "    ax.bar(categories, values[i], color='skyblue')\n",
    "    ax.set_title(metrics[i], fontsize=14)\n",
    "    ax.set_xlabel('Categories', fontsize=10)\n",
    "    ax.set_ylabel('Values', fontsize=10)\n",
    "    ax.grid(axis='y', linestyle='--', alpha=0.7)\n",
    "\n",
    "# Adjust layout to prevent overlap and add space between plots\n",
    "plt.tight_layout()\n",
    "plt.subplots_adjust(hspace=0.5)\n",
    "\n",
    "# Show the plots\n",
    "plt.show()"
   ]
  },
  {
   "cell_type": "markdown",
   "metadata": {},
   "source": [
    "# Results"
   ]
  },
  {
   "cell_type": "markdown",
   "metadata": {},
   "source": [
    "**Top 3 Models For Answer Relevancy**\n",
    "\n",
    "1. Semantic Percentile (40%)\n",
    "2. Semantic Gradient (35%)\n",
    "3. Agentic (33%)\n",
    "\n",
    "**Top 3 Models For Context Precision**\n",
    "\n",
    "1. Recursive 512 (75%)\n",
    "2. Recursive 2048 (72%)\n",
    "3. Semantic Default (71%)\n",
    "\n",
    "**Top 3 Models For Faithfullness**\n",
    "\n",
    "1. Agentic (37%)\n",
    "2. Semantic Gradient (37%)\n",
    "3. Recursive 256 (33%)\n",
    "\n",
    "**Top 3 Models For Context Recall**\n",
    "1. Page (85%)\n",
    "2. Recursive 4096 (82%)\n",
    "3. Recursive 2048 (82%)"
   ]
  },
  {
   "cell_type": "markdown",
   "metadata": {},
   "source": [
    "# Conclusion"
   ]
  },
  {
   "cell_type": "markdown",
   "metadata": {},
   "source": [
    "As you can see only chunking based approaches do not give use really good results. May be by using a bigger model we can get better results. But our major intention is to use small model only and see if we can get awesome results our of it or not"
   ]
  },
  {
   "cell_type": "markdown",
   "metadata": {},
   "source": [
    "Therefore, we will continue our experimentations in the next notebook. This time we will see how retrieval can be optimized to give us a better result."
   ]
  },
  {
   "cell_type": "markdown",
   "metadata": {},
   "source": [
    "Eventually, we will create multiple experiments notebook, finishing with finetuning approaches. This will give us an overall picture of how RAG performs and can we use small language models with as much accuracy as the big models"
   ]
  },
  {
   "cell_type": "code",
   "execution_count": null,
   "metadata": {},
   "outputs": [],
   "source": []
  }
 ],
 "metadata": {
  "kernelspec": {
   "display_name": "RAG",
   "language": "python",
   "name": "ajio"
  },
  "language_info": {
   "codemirror_mode": {
    "name": "ipython",
    "version": 3
   },
   "file_extension": ".py",
   "mimetype": "text/x-python",
   "name": "python",
   "nbconvert_exporter": "python",
   "pygments_lexer": "ipython3",
   "version": "3.11.0"
  }
 },
 "nbformat": 4,
 "nbformat_minor": 4
}
